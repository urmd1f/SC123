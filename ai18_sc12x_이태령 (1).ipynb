{
  "nbformat": 4,
  "nbformat_minor": 0,
  "metadata": {
    "colab": {
      "provenance": [],
      "toc_visible": true
    },
    "kernelspec": {
      "name": "python3",
      "display_name": "Python 3"
    },
    "language_info": {
      "name": "python"
    }
  },
  "cells": [
    {
      "cell_type": "markdown",
      "source": [
        "<img src='https://i.imgur.com/RDAD11M.png' width = '200' align = 'right'>\n",
        "\n",
        "# **SC12x**\n",
        "\n",
        "# **Statistics**"
      ],
      "metadata": {
        "id": "Lh5QGrdw-mKP"
      }
    },
    {
      "cell_type": "markdown",
      "source": [
        "## **Part 1. Bayes Theorem**\n",
        "\n",
        "Bayes Thoerem은 사전확률에서 정보가 업데이트됨에 따라 사후확률이 어떻게 변화하는지를 나타냅니다. \n",
        "\n",
        "다음의 문제에 대해 Bayes Thoerem을 활용하여 사후확률을 구해보세요.\n",
        "\n",
        "> 여러분은 가게에서 2개의 사탕팩(A, B)을 구매하였습니다. A팩에는 7개의 딸기맛, 3개의 사과맛 사탕이 들어있고, B팩에는 5개의 딸기맛, 5개의 사과맛 사탕이 들어있었습니다. 해당 사탕들을 모두 섞은 후 1개를 뽑았더니 딸기맛이었을 때, 해당 사탕이 A팩에 있었던 사탕이었을 확률은 얼마일까요?\n",
        "\n",
        "\n",
        "\n"
      ],
      "metadata": {
        "id": "r7D6lw5IUwc2"
      }
    },
    {
      "cell_type": "markdown",
      "source": [
        "##### **Q1. 사후확률을 반올림하여 소수점 둘째 자리까지 구한 후, 사전확률과 사후확률 결과를 (사전확률, 사후확률)의 형태로 쓰세요.**"
      ],
      "metadata": {
        "id": "r0MUSUO6A2kj"
      }
    },
    {
      "cell_type": "code",
      "source": [
        "#P(A|S) = P(A and S) / P(S) = (7/20) / (12/20), P(A) = 1/2"
      ],
      "metadata": {
        "id": "Em6ZBk6Nl10u"
      },
      "execution_count": 1,
      "outputs": []
    },
    {
      "cell_type": "code",
      "source": [
        "round((7/20) / (12/20),2)"
      ],
      "metadata": {
        "colab": {
          "base_uri": "https://localhost:8080/"
        },
        "id": "iXAhQl_1MCOn",
        "outputId": "399e984f-a04c-430b-e393-36d3772b53e9"
      },
      "execution_count": 2,
      "outputs": [
        {
          "output_type": "execute_result",
          "data": {
            "text/plain": [
              "0.58"
            ]
          },
          "metadata": {},
          "execution_count": 2
        }
      ]
    },
    {
      "cell_type": "code",
      "source": [
        "#(0.5,0.58)"
      ],
      "metadata": {
        "id": "8oEuURINMilz"
      },
      "execution_count": 3,
      "outputs": []
    },
    {
      "cell_type": "markdown",
      "source": [
        "---"
      ],
      "metadata": {
        "id": "uxyyD7S2BG3S"
      }
    },
    {
      "cell_type": "markdown",
      "source": [
        "## **Part 2. 큰 수의 법칙 & 신뢰 구간**\n",
        "\n",
        "> **Part 2, Part 3에서 여러분은 가상의 마케팅 데이터를 활용할 것입니다.**"
      ],
      "metadata": {
        "id": "RD-eh22GVjx7"
      }
    },
    {
      "cell_type": "markdown",
      "source": [
        "#### 데이터셋 정보 :   \n",
        "이 데이터셋은 알뜰 구매를 도와주는 XYZ사의 마케팅 정보를 다루고 있으며, 개인 정보는 보호를 위해 제거 되어 있습니다.\n",
        "\n",
        "**Attribute Information:**\n",
        "\n",
        "- ID - 고객의 고유값\n",
        "- Year_Birth - 고객의 출생연도\n",
        "- Education - 고객의 최종학력\n",
        "- Marital_Status - 고객의 혼인여부\n",
        "- Country - 고객의 국적\n",
        "- Income - 고객의 연간 수입\n",
        "- Kidhome - 자녀가 미취학아동인지 여부 (1 - yes, 0 - no)\n",
        "- Teenhome - 자녀가 10대 청소년인지 여부 (1 - yes, 0 - no)\n",
        "- Dt_Customer - 서비스 가입 시기\n",
        "- Recency - 마지막 구매 시기 (일)\n",
        "- MntWines - 최근 2년간 구매한 와인 구매 총액\n",
        "- MntFruits- 최근 2년간 구매한 과일 구매 총액\n",
        "- MntMeatProducts - 최근 2년간 구매한 정육 구매 총액\n",
        "- MntFishProducts - 최근 2년간 구매한 어류 구매 총액\n",
        "- MntSweetProducts - 최근 2년간 구매한 과자 구매 총액\n",
        "- MntGoldProds - 최근 2년간 구매한 황금 구매 총액\n",
        "- NumDealsPurchases - 할인을 통해 제품을 구매한 횟수\n",
        "- NumWebPurchases - 회사의 웹사이트를 통해 구매한 횟수\n",
        "- NumStorePurchases - 가게에서 직접 구매한 횟수\n",
        "- NumWebVisitsMonth - 회사의 웹사이트를 방문한 횟수\n",
        "- Complain - 고객의 최근 2년간 회사에 대한 클레임 여부 (1 - yes, 0 - no)"
      ],
      "metadata": {
        "id": "64C3XkoL-lZB"
      }
    },
    {
      "cell_type": "markdown",
      "source": [
        "### **2-1. 데이터셋 살펴보기**\n",
        "\n",
        "- 데이터셋을 데이터프레임 형태로 불러오세요.\n",
        "- `Income` column 이름 앞뒤의 공백을 제거하세요.\n",
        "- 데이터셋의 결측치를 살펴보고, 있다면 제거하고 인덱스를 재설정하세요.\n",
        "- `Income`의 데이터타입을 `int`로 변경하세요.\n",
        "  - 필요시 다음의 코드를 활용해보세요.\n",
        "  \n",
        "\n",
        "  ```python\n",
        "  import re\n",
        "\n",
        "  def cleaning(df):\n",
        "    li = []\n",
        "    for row in df['Income']:\n",
        "      splited = row.split('.') # .을 기준으로 문자열을 분리합니다.\n",
        "      result = re.sub('[^0-9]','', splited[0]) # .기준 앞 부분만 활용하여 숫자가 아닌 문자는 공백으로 치환합니다.\n",
        "      li.append(int(result))\n",
        "  \n",
        "    df['Income'] = li\n",
        "  ```\n",
        "\n",
        "- `Income`의 이상치를 제거하세요.\n",
        "  - 다음의 코드를 통해 `Income`의 분포를 비교해보세요.\n",
        "\n",
        "  ```python\n",
        "  plt.hist(df['Income']);\n",
        "\n",
        "  plt.hist(df.loc[df['Income'] < 120000, 'Income']);\n",
        "  ```\n",
        "\n",
        "  - `Income`이 120000 이상이 되는 값은 이상치로 간주하여 해당 row를 삭제하고 인덱스를 재설정하세요.\n",
        "\n",
        "- 위의 전처리 과정을 완료한 데이터프레임을 `df_final` 변수로 저장하세요."
      ],
      "metadata": {
        "id": "kZGgXCglUznv"
      }
    },
    {
      "cell_type": "markdown",
      "source": [
        "##### **Q2. `df_final`의 행의 개수를 쓰세요.**"
      ],
      "metadata": {
        "id": "U9teUfVZBMpK"
      }
    },
    {
      "cell_type": "code",
      "source": [
        "# 아래의 코드를 실행해 주세요. 업그레이드 완료 후에는 런타임을 재시작해야 합니다. \n",
        "#!pip install scipy --upgrade"
      ],
      "metadata": {
        "id": "jR7CP6nFSQKw"
      },
      "execution_count": 4,
      "outputs": []
    },
    {
      "cell_type": "code",
      "source": [
        "import pandas as pd\n",
        "\n",
        "df = pd.read_csv('https://raw.githubusercontent.com/urmd1f/n121_124_miniproject/main/sc_12_data.csv')\n",
        "df = df.rename(columns = {' Income ' : 'Income'})\n",
        "df.head()"
      ],
      "metadata": {
        "id": "KYlkINRZl_3f",
        "colab": {
          "base_uri": "https://localhost:8080/",
          "height": 317
        },
        "outputId": "6e4af879-48ed-4b63-fe29-3a07529d046e"
      },
      "execution_count": 5,
      "outputs": [
        {
          "output_type": "execute_result",
          "data": {
            "text/plain": [
              "   Unnamed: 0     ID  Year_Birth Country   Education Marital_Status  \\\n",
              "0           0   1826        1970      SP  Graduation       Divorced   \n",
              "1           1      1        1961      CA  Graduation         Single   \n",
              "2           2  10476        1958      US  Graduation        Married   \n",
              "3           3   1386        1967     AUS  Graduation       Together   \n",
              "4           4   5371        1989      SP  Graduation         Single   \n",
              "\n",
              "        Income  Kidhome  Teenhome Dt_Customer  ...  MntFruits  \\\n",
              "0  $84,835.00         0         0     6/16/14  ...        104   \n",
              "1  $57,091.00         0         0     6/15/14  ...          5   \n",
              "2  $67,267.00         0         1     5/13/14  ...         11   \n",
              "3  $32,474.00         1         1     5/11/14  ...          0   \n",
              "4  $21,474.00         1         0      4/8/14  ...         16   \n",
              "\n",
              "   MntMeatProducts  MntFishProducts  MntSweetProducts  MntGoldProds  \\\n",
              "0              379              111               189           218   \n",
              "1               64                7                 0            37   \n",
              "2               59               15                 2            30   \n",
              "3                1                0                 0             0   \n",
              "4               24               11                 0            34   \n",
              "\n",
              "   NumDealsPurchases  NumWebPurchases  NumStorePurchases  NumWebVisitsMonth  \\\n",
              "0                  1                4                  6                  1   \n",
              "1                  1                7                  7                  5   \n",
              "2                  1                3                  5                  2   \n",
              "3                  1                1                  2                  7   \n",
              "4                  2                3                  2                  7   \n",
              "\n",
              "   Complain  \n",
              "0         0  \n",
              "1         0  \n",
              "2         0  \n",
              "3         0  \n",
              "4         0  \n",
              "\n",
              "[5 rows x 22 columns]"
            ],
            "text/html": [
              "\n",
              "  <div id=\"df-3aa3b582-a315-47a1-942a-afde41f72aa2\">\n",
              "    <div class=\"colab-df-container\">\n",
              "      <div>\n",
              "<style scoped>\n",
              "    .dataframe tbody tr th:only-of-type {\n",
              "        vertical-align: middle;\n",
              "    }\n",
              "\n",
              "    .dataframe tbody tr th {\n",
              "        vertical-align: top;\n",
              "    }\n",
              "\n",
              "    .dataframe thead th {\n",
              "        text-align: right;\n",
              "    }\n",
              "</style>\n",
              "<table border=\"1\" class=\"dataframe\">\n",
              "  <thead>\n",
              "    <tr style=\"text-align: right;\">\n",
              "      <th></th>\n",
              "      <th>Unnamed: 0</th>\n",
              "      <th>ID</th>\n",
              "      <th>Year_Birth</th>\n",
              "      <th>Country</th>\n",
              "      <th>Education</th>\n",
              "      <th>Marital_Status</th>\n",
              "      <th>Income</th>\n",
              "      <th>Kidhome</th>\n",
              "      <th>Teenhome</th>\n",
              "      <th>Dt_Customer</th>\n",
              "      <th>...</th>\n",
              "      <th>MntFruits</th>\n",
              "      <th>MntMeatProducts</th>\n",
              "      <th>MntFishProducts</th>\n",
              "      <th>MntSweetProducts</th>\n",
              "      <th>MntGoldProds</th>\n",
              "      <th>NumDealsPurchases</th>\n",
              "      <th>NumWebPurchases</th>\n",
              "      <th>NumStorePurchases</th>\n",
              "      <th>NumWebVisitsMonth</th>\n",
              "      <th>Complain</th>\n",
              "    </tr>\n",
              "  </thead>\n",
              "  <tbody>\n",
              "    <tr>\n",
              "      <th>0</th>\n",
              "      <td>0</td>\n",
              "      <td>1826</td>\n",
              "      <td>1970</td>\n",
              "      <td>SP</td>\n",
              "      <td>Graduation</td>\n",
              "      <td>Divorced</td>\n",
              "      <td>$84,835.00</td>\n",
              "      <td>0</td>\n",
              "      <td>0</td>\n",
              "      <td>6/16/14</td>\n",
              "      <td>...</td>\n",
              "      <td>104</td>\n",
              "      <td>379</td>\n",
              "      <td>111</td>\n",
              "      <td>189</td>\n",
              "      <td>218</td>\n",
              "      <td>1</td>\n",
              "      <td>4</td>\n",
              "      <td>6</td>\n",
              "      <td>1</td>\n",
              "      <td>0</td>\n",
              "    </tr>\n",
              "    <tr>\n",
              "      <th>1</th>\n",
              "      <td>1</td>\n",
              "      <td>1</td>\n",
              "      <td>1961</td>\n",
              "      <td>CA</td>\n",
              "      <td>Graduation</td>\n",
              "      <td>Single</td>\n",
              "      <td>$57,091.00</td>\n",
              "      <td>0</td>\n",
              "      <td>0</td>\n",
              "      <td>6/15/14</td>\n",
              "      <td>...</td>\n",
              "      <td>5</td>\n",
              "      <td>64</td>\n",
              "      <td>7</td>\n",
              "      <td>0</td>\n",
              "      <td>37</td>\n",
              "      <td>1</td>\n",
              "      <td>7</td>\n",
              "      <td>7</td>\n",
              "      <td>5</td>\n",
              "      <td>0</td>\n",
              "    </tr>\n",
              "    <tr>\n",
              "      <th>2</th>\n",
              "      <td>2</td>\n",
              "      <td>10476</td>\n",
              "      <td>1958</td>\n",
              "      <td>US</td>\n",
              "      <td>Graduation</td>\n",
              "      <td>Married</td>\n",
              "      <td>$67,267.00</td>\n",
              "      <td>0</td>\n",
              "      <td>1</td>\n",
              "      <td>5/13/14</td>\n",
              "      <td>...</td>\n",
              "      <td>11</td>\n",
              "      <td>59</td>\n",
              "      <td>15</td>\n",
              "      <td>2</td>\n",
              "      <td>30</td>\n",
              "      <td>1</td>\n",
              "      <td>3</td>\n",
              "      <td>5</td>\n",
              "      <td>2</td>\n",
              "      <td>0</td>\n",
              "    </tr>\n",
              "    <tr>\n",
              "      <th>3</th>\n",
              "      <td>3</td>\n",
              "      <td>1386</td>\n",
              "      <td>1967</td>\n",
              "      <td>AUS</td>\n",
              "      <td>Graduation</td>\n",
              "      <td>Together</td>\n",
              "      <td>$32,474.00</td>\n",
              "      <td>1</td>\n",
              "      <td>1</td>\n",
              "      <td>5/11/14</td>\n",
              "      <td>...</td>\n",
              "      <td>0</td>\n",
              "      <td>1</td>\n",
              "      <td>0</td>\n",
              "      <td>0</td>\n",
              "      <td>0</td>\n",
              "      <td>1</td>\n",
              "      <td>1</td>\n",
              "      <td>2</td>\n",
              "      <td>7</td>\n",
              "      <td>0</td>\n",
              "    </tr>\n",
              "    <tr>\n",
              "      <th>4</th>\n",
              "      <td>4</td>\n",
              "      <td>5371</td>\n",
              "      <td>1989</td>\n",
              "      <td>SP</td>\n",
              "      <td>Graduation</td>\n",
              "      <td>Single</td>\n",
              "      <td>$21,474.00</td>\n",
              "      <td>1</td>\n",
              "      <td>0</td>\n",
              "      <td>4/8/14</td>\n",
              "      <td>...</td>\n",
              "      <td>16</td>\n",
              "      <td>24</td>\n",
              "      <td>11</td>\n",
              "      <td>0</td>\n",
              "      <td>34</td>\n",
              "      <td>2</td>\n",
              "      <td>3</td>\n",
              "      <td>2</td>\n",
              "      <td>7</td>\n",
              "      <td>0</td>\n",
              "    </tr>\n",
              "  </tbody>\n",
              "</table>\n",
              "<p>5 rows × 22 columns</p>\n",
              "</div>\n",
              "      <button class=\"colab-df-convert\" onclick=\"convertToInteractive('df-3aa3b582-a315-47a1-942a-afde41f72aa2')\"\n",
              "              title=\"Convert this dataframe to an interactive table.\"\n",
              "              style=\"display:none;\">\n",
              "        \n",
              "  <svg xmlns=\"http://www.w3.org/2000/svg\" height=\"24px\"viewBox=\"0 0 24 24\"\n",
              "       width=\"24px\">\n",
              "    <path d=\"M0 0h24v24H0V0z\" fill=\"none\"/>\n",
              "    <path d=\"M18.56 5.44l.94 2.06.94-2.06 2.06-.94-2.06-.94-.94-2.06-.94 2.06-2.06.94zm-11 1L8.5 8.5l.94-2.06 2.06-.94-2.06-.94L8.5 2.5l-.94 2.06-2.06.94zm10 10l.94 2.06.94-2.06 2.06-.94-2.06-.94-.94-2.06-.94 2.06-2.06.94z\"/><path d=\"M17.41 7.96l-1.37-1.37c-.4-.4-.92-.59-1.43-.59-.52 0-1.04.2-1.43.59L10.3 9.45l-7.72 7.72c-.78.78-.78 2.05 0 2.83L4 21.41c.39.39.9.59 1.41.59.51 0 1.02-.2 1.41-.59l7.78-7.78 2.81-2.81c.8-.78.8-2.07 0-2.86zM5.41 20L4 18.59l7.72-7.72 1.47 1.35L5.41 20z\"/>\n",
              "  </svg>\n",
              "      </button>\n",
              "      \n",
              "  <style>\n",
              "    .colab-df-container {\n",
              "      display:flex;\n",
              "      flex-wrap:wrap;\n",
              "      gap: 12px;\n",
              "    }\n",
              "\n",
              "    .colab-df-convert {\n",
              "      background-color: #E8F0FE;\n",
              "      border: none;\n",
              "      border-radius: 50%;\n",
              "      cursor: pointer;\n",
              "      display: none;\n",
              "      fill: #1967D2;\n",
              "      height: 32px;\n",
              "      padding: 0 0 0 0;\n",
              "      width: 32px;\n",
              "    }\n",
              "\n",
              "    .colab-df-convert:hover {\n",
              "      background-color: #E2EBFA;\n",
              "      box-shadow: 0px 1px 2px rgba(60, 64, 67, 0.3), 0px 1px 3px 1px rgba(60, 64, 67, 0.15);\n",
              "      fill: #174EA6;\n",
              "    }\n",
              "\n",
              "    [theme=dark] .colab-df-convert {\n",
              "      background-color: #3B4455;\n",
              "      fill: #D2E3FC;\n",
              "    }\n",
              "\n",
              "    [theme=dark] .colab-df-convert:hover {\n",
              "      background-color: #434B5C;\n",
              "      box-shadow: 0px 1px 3px 1px rgba(0, 0, 0, 0.15);\n",
              "      filter: drop-shadow(0px 1px 2px rgba(0, 0, 0, 0.3));\n",
              "      fill: #FFFFFF;\n",
              "    }\n",
              "  </style>\n",
              "\n",
              "      <script>\n",
              "        const buttonEl =\n",
              "          document.querySelector('#df-3aa3b582-a315-47a1-942a-afde41f72aa2 button.colab-df-convert');\n",
              "        buttonEl.style.display =\n",
              "          google.colab.kernel.accessAllowed ? 'block' : 'none';\n",
              "\n",
              "        async function convertToInteractive(key) {\n",
              "          const element = document.querySelector('#df-3aa3b582-a315-47a1-942a-afde41f72aa2');\n",
              "          const dataTable =\n",
              "            await google.colab.kernel.invokeFunction('convertToInteractive',\n",
              "                                                     [key], {});\n",
              "          if (!dataTable) return;\n",
              "\n",
              "          const docLinkHtml = 'Like what you see? Visit the ' +\n",
              "            '<a target=\"_blank\" href=https://colab.research.google.com/notebooks/data_table.ipynb>data table notebook</a>'\n",
              "            + ' to learn more about interactive tables.';\n",
              "          element.innerHTML = '';\n",
              "          dataTable['output_type'] = 'display_data';\n",
              "          await google.colab.output.renderOutput(dataTable, element);\n",
              "          const docLink = document.createElement('div');\n",
              "          docLink.innerHTML = docLinkHtml;\n",
              "          element.appendChild(docLink);\n",
              "        }\n",
              "      </script>\n",
              "    </div>\n",
              "  </div>\n",
              "  "
            ]
          },
          "metadata": {},
          "execution_count": 5
        }
      ]
    },
    {
      "cell_type": "code",
      "source": [
        "df.info()"
      ],
      "metadata": {
        "colab": {
          "base_uri": "https://localhost:8080/"
        },
        "id": "3V-tByhVZ_FP",
        "outputId": "fea62b8c-bb02-40f3-d92d-9cfb99ed9af9"
      },
      "execution_count": 6,
      "outputs": [
        {
          "output_type": "stream",
          "name": "stdout",
          "text": [
            "<class 'pandas.core.frame.DataFrame'>\n",
            "RangeIndex: 2140 entries, 0 to 2139\n",
            "Data columns (total 22 columns):\n",
            " #   Column             Non-Null Count  Dtype \n",
            "---  ------             --------------  ----- \n",
            " 0   Unnamed: 0         2140 non-null   int64 \n",
            " 1   ID                 2140 non-null   int64 \n",
            " 2   Year_Birth         2140 non-null   int64 \n",
            " 3   Country            2140 non-null   object\n",
            " 4   Education          2140 non-null   object\n",
            " 5   Marital_Status     2140 non-null   object\n",
            " 6   Income             2119 non-null   object\n",
            " 7   Kidhome            2140 non-null   int64 \n",
            " 8   Teenhome           2140 non-null   int64 \n",
            " 9   Dt_Customer        2140 non-null   object\n",
            " 10  Recency            2140 non-null   int64 \n",
            " 11  MntWines           2140 non-null   int64 \n",
            " 12  MntFruits          2140 non-null   int64 \n",
            " 13  MntMeatProducts    2140 non-null   int64 \n",
            " 14  MntFishProducts    2140 non-null   int64 \n",
            " 15  MntSweetProducts   2140 non-null   int64 \n",
            " 16  MntGoldProds       2140 non-null   int64 \n",
            " 17  NumDealsPurchases  2140 non-null   int64 \n",
            " 18  NumWebPurchases    2140 non-null   int64 \n",
            " 19  NumStorePurchases  2140 non-null   int64 \n",
            " 20  NumWebVisitsMonth  2140 non-null   int64 \n",
            " 21  Complain           2140 non-null   int64 \n",
            "dtypes: int64(17), object(5)\n",
            "memory usage: 367.9+ KB\n"
          ]
        }
      ]
    },
    {
      "cell_type": "code",
      "source": [
        "df.Income.value_counts()"
      ],
      "metadata": {
        "colab": {
          "base_uri": "https://localhost:8080/"
        },
        "id": "ov7tQcNgaRWX",
        "outputId": "aec72bc9-091e-4804-e677-293ab5c455b6"
      },
      "execution_count": 7,
      "outputs": [
        {
          "output_type": "execute_result",
          "data": {
            "text/plain": [
              "$7,500.00      12\n",
              "$35,860.00      4\n",
              "$80,134.00      3\n",
              "$18,929.00      3\n",
              "$37,760.00      3\n",
              "               ..\n",
              "$35,682.00      1\n",
              "$66,731.00      1\n",
              "$57,036.00      1\n",
              "$48,070.00      1\n",
              "$65,819.00      1\n",
              "Name: Income, Length: 1888, dtype: int64"
            ]
          },
          "metadata": {},
          "execution_count": 7
        }
      ]
    },
    {
      "cell_type": "code",
      "source": [
        "pd.set_option('display.max_rows', 60)"
      ],
      "metadata": {
        "id": "nMpuQd9iiYUP"
      },
      "execution_count": 8,
      "outputs": []
    },
    {
      "cell_type": "code",
      "source": [
        "#df.Income = df.Income.str.replace(pat=r'[^\\d]', repl=r'', regex=True)\n",
        "df = df.dropna()\n",
        "#df.Income.astype(int)\n",
        "#df.Income = df.Income / 100"
      ],
      "metadata": {
        "id": "zwULJHYZgLzh"
      },
      "execution_count": 9,
      "outputs": []
    },
    {
      "cell_type": "code",
      "source": [
        " li = []\n",
        "for row in df.Income:\n",
        "  li.append(row)\n",
        "li"
      ],
      "metadata": {
        "colab": {
          "base_uri": "https://localhost:8080/"
        },
        "id": "fDTQg4ecfxTx",
        "outputId": "1d3c4f79-a6b7-4b39-9035-e3f6bdcdd196"
      },
      "execution_count": 10,
      "outputs": [
        {
          "output_type": "execute_result",
          "data": {
            "text/plain": [
              "['$84,835.00 ',\n",
              " '$57,091.00 ',\n",
              " '$67,267.00 ',\n",
              " '$32,474.00 ',\n",
              " '$21,474.00 ',\n",
              " '$71,691.00 ',\n",
              " '$63,564.00 ',\n",
              " '$44,931.00 ',\n",
              " '$65,324.00 ',\n",
              " '$65,324.00 ',\n",
              " '$81,044.00 ',\n",
              " '$62,499.00 ',\n",
              " '$67,786.00 ',\n",
              " '$26,872.00 ',\n",
              " '$4,428.00 ',\n",
              " '$54,809.00 ',\n",
              " '$54,809.00 ',\n",
              " '$32,173.00 ',\n",
              " '$47,823.00 ',\n",
              " '$36,634.00 ',\n",
              " '$43,456.00 ',\n",
              " '$40,662.00 ',\n",
              " '$49,544.00 ',\n",
              " '$57,731.00 ',\n",
              " '$33,168.00 ',\n",
              " '$54,450.00 ',\n",
              " '$54,450.00 ',\n",
              " '$35,340.00 ',\n",
              " '$73,170.00 ',\n",
              " '$65,808.00 ',\n",
              " '$79,529.00 ',\n",
              " '$46,374.00 ',\n",
              " '$18,351.00 ',\n",
              " '$95,169.00 ',\n",
              " '$65,370.00 ',\n",
              " '$39,228.00 ',\n",
              " '$84,865.00 ',\n",
              " '$61,314.00 ',\n",
              " '$21,359.00 ',\n",
              " '$66,465.00 ',\n",
              " '$81,698.00 ',\n",
              " '$39,146.00 ',\n",
              " '$25,959.00 ',\n",
              " '$64,260.00 ',\n",
              " '$32,300.00 ',\n",
              " '$74,806.00 ',\n",
              " '$72,967.00 ',\n",
              " '$48,904.00 ',\n",
              " '$14,796.00 ',\n",
              " '$66,991.00 ',\n",
              " '$90,369.00 ',\n",
              " '$18,393.00 ',\n",
              " '$47,139.00 ',\n",
              " '$38,576.00 ',\n",
              " '$61,905.00 ',\n",
              " '$83,715.00 ',\n",
              " '$60,597.00 ',\n",
              " '$6,560.00 ',\n",
              " '$48,330.00 ',\n",
              " '$38,236.00 ',\n",
              " '$22,701.00 ',\n",
              " '$53,367.00 ',\n",
              " '$34,728.00 ',\n",
              " '$82,504.00 ',\n",
              " '$38,578.00 ',\n",
              " '$38,578.00 ',\n",
              " '$79,174.00 ',\n",
              " '$81,975.00 ',\n",
              " '$43,263.00 ',\n",
              " '$27,242.00 ',\n",
              " '$76,445.00 ',\n",
              " '$75,276.00 ',\n",
              " '$34,213.00 ',\n",
              " '$72,335.00 ',\n",
              " '$79,143.00 ',\n",
              " '$27,469.00 ',\n",
              " '$68,695.00 ',\n",
              " '$68,695.00 ',\n",
              " '$50,388.00 ',\n",
              " '$31,859.00 ',\n",
              " '$23,830.00 ',\n",
              " '$24,639.00 ',\n",
              " '$71,604.00 ',\n",
              " '$27,255.00 ',\n",
              " '$55,375.00 ',\n",
              " '$77,037.00 ',\n",
              " '$24,163.00 ',\n",
              " '$69,476.00 ',\n",
              " '$72,063.00 ',\n",
              " '$58,646.00 ',\n",
              " '$58,646.00 ',\n",
              " '$47,570.00 ',\n",
              " '$80,011.00 ',\n",
              " '$54,998.00 ',\n",
              " '$60,200.00 ',\n",
              " '$63,211.00 ',\n",
              " '$48,432.00 ',\n",
              " '$48,432.00 ',\n",
              " '$48,432.00 ',\n",
              " '$62,845.00 ',\n",
              " '$62,845.00 ',\n",
              " '$65,220.00 ',\n",
              " '$74,214.00 ',\n",
              " '$96,547.00 ',\n",
              " '$53,863.00 ',\n",
              " '$37,716.00 ',\n",
              " '$37,368.00 ',\n",
              " '$67,225.00 ',\n",
              " '$65,104.00 ',\n",
              " '$65,104.00 ',\n",
              " '$81,698.00 ',\n",
              " '$70,566.00 ',\n",
              " '$69,096.00 ',\n",
              " '$71,434.00 ',\n",
              " '$33,039.00 ',\n",
              " '$33,039.00 ',\n",
              " '$46,610.00 ',\n",
              " '$49,967.00 ',\n",
              " '$53,359.00 ',\n",
              " '$49,505.00 ',\n",
              " '$68,657.00 ',\n",
              " '$72,071.00 ',\n",
              " '$72,071.00 ',\n",
              " '$59,235.00 ',\n",
              " '$21,994.00 ',\n",
              " '$21,994.00 ',\n",
              " '$69,209.00 ',\n",
              " '$31,928.00 ',\n",
              " '$74,004.00 ',\n",
              " '$30,390.00 ',\n",
              " '$21,355.00 ',\n",
              " '$26,304.00 ',\n",
              " '$85,710.00 ',\n",
              " '$102,692.00 ',\n",
              " '$58,350.00 ',\n",
              " '$7,500.00 ',\n",
              " '$18,890.00 ',\n",
              " '$20,425.00 ',\n",
              " '$20,425.00 ',\n",
              " '$41,437.00 ',\n",
              " '$49,912.00 ',\n",
              " '$49,912.00 ',\n",
              " '$79,823.00 ',\n",
              " '$85,683.00 ',\n",
              " '$47,025.00 ',\n",
              " '$68,397.00 ',\n",
              " '$38,175.00 ',\n",
              " '$46,423.00 ',\n",
              " '$46,423.00 ',\n",
              " '$30,560.00 ',\n",
              " '$30,560.00 ',\n",
              " '$60,152.00 ',\n",
              " '$29,672.00 ',\n",
              " '$29,672.00 ',\n",
              " '$70,321.00 ',\n",
              " '$56,181.00 ',\n",
              " '$24,279.00 ',\n",
              " '$68,462.00 ',\n",
              " '$55,424.00 ',\n",
              " '$49,094.00 ',\n",
              " '$59,184.00 ',\n",
              " '$67,430.00 ',\n",
              " '$30,522.00 ',\n",
              " '$31,878.00 ',\n",
              " '$83,528.00 ',\n",
              " '$90,300.00 ',\n",
              " '$68,092.00 ',\n",
              " '$53,761.00 ',\n",
              " '$52,845.00 ',\n",
              " '$24,027.00 ',\n",
              " '$7,500.00 ',\n",
              " '$42,586.00 ',\n",
              " '$42,586.00 ',\n",
              " '$9,722.00 ',\n",
              " '$86,836.00 ',\n",
              " '$30,467.00 ',\n",
              " '$54,549.00 ',\n",
              " '$19,444.00 ',\n",
              " '$69,245.00 ',\n",
              " '$72,968.00 ',\n",
              " '$73,687.00 ',\n",
              " '$82,716.00 ',\n",
              " '$35,523.00 ',\n",
              " '$60,554.00 ',\n",
              " '$64,090.00 ',\n",
              " '$61,559.00 ',\n",
              " '$71,670.00 ',\n",
              " '$67,680.00 ',\n",
              " '$54,386.00 ',\n",
              " '$64,108.00 ',\n",
              " '$69,702.00 ',\n",
              " '$47,958.00 ',\n",
              " '$67,716.00 ',\n",
              " '$34,600.00 ',\n",
              " '$34,600.00 ',\n",
              " '$48,752.00 ',\n",
              " '$15,716.00 ',\n",
              " '$74,985.00 ',\n",
              " '$45,576.00 ',\n",
              " '$113,734.00 ',\n",
              " '$57,100.00 ',\n",
              " '$37,126.00 ',\n",
              " '$45,160.00 ',\n",
              " '$33,178.00 ',\n",
              " '$64,866.00 ',\n",
              " '$34,176.00 ',\n",
              " '$50,014.00 ',\n",
              " '$92,344.00 ',\n",
              " '$55,282.00 ',\n",
              " '$48,799.00 ',\n",
              " '$84,169.00 ',\n",
              " '$84,169.00 ',\n",
              " '$39,763.00 ',\n",
              " '$74,165.00 ',\n",
              " '$42,720.00 ',\n",
              " '$65,275.00 ',\n",
              " '$36,443.00 ',\n",
              " '$43,776.00 ',\n",
              " '$56,046.00 ',\n",
              " '$65,148.00 ',\n",
              " '$49,431.00 ',\n",
              " '$32,583.00 ',\n",
              " '$16,653.00 ',\n",
              " '$26,850.00 ',\n",
              " '$51,287.00 ',\n",
              " '$43,050.00 ',\n",
              " '$73,448.00 ',\n",
              " '$17,256.00 ',\n",
              " '$86,429.00 ',\n",
              " '$33,569.00 ',\n",
              " '$25,130.00 ',\n",
              " '$62,998.00 ',\n",
              " '$26,907.00 ',\n",
              " '$26,907.00 ',\n",
              " '$45,579.00 ',\n",
              " '$47,320.00 ',\n",
              " '$70,179.00 ',\n",
              " '$70,179.00 ',\n",
              " '$28,072.00 ',\n",
              " '$50,501.00 ',\n",
              " '$69,372.00 ',\n",
              " '$35,178.00 ',\n",
              " '$35,178.00 ',\n",
              " '$75,693.00 ',\n",
              " '$69,109.00 ',\n",
              " '$69,109.00 ',\n",
              " '$80,134.00 ',\n",
              " '$64,713.00 ',\n",
              " '$41,411.00 ',\n",
              " '$43,795.00 ',\n",
              " '$22,070.00 ',\n",
              " '$36,408.00 ',\n",
              " '$34,026.00 ',\n",
              " '$34,026.00 ',\n",
              " '$46,049.00 ',\n",
              " '$35,641.00 ',\n",
              " '$32,414.00 ',\n",
              " '$59,821.00 ',\n",
              " '$34,968.00 ',\n",
              " '$56,320.00 ',\n",
              " '$70,091.00 ',\n",
              " '$46,097.00 ',\n",
              " '$41,003.00 ',\n",
              " '$44,911.00 ',\n",
              " '$33,249.00 ',\n",
              " '$33,249.00 ',\n",
              " '$42,873.00 ',\n",
              " '$51,039.00 ',\n",
              " '$78,952.00 ',\n",
              " '$29,435.00 ',\n",
              " '$79,865.00 ',\n",
              " '$34,176.00 ',\n",
              " '$34,176.00 ',\n",
              " '$65,968.00 ',\n",
              " '$86,424.00 ',\n",
              " '$67,272.00 ',\n",
              " '$78,499.00 ',\n",
              " '$77,044.00 ',\n",
              " '$70,515.00 ',\n",
              " '$17,459.00 ',\n",
              " '$80,336.00 ',\n",
              " '$15,759.00 ',\n",
              " '$26,326.00 ',\n",
              " '$62,061.00 ',\n",
              " '$5,305.00 ',\n",
              " '$75,777.00 ',\n",
              " '$75,777.00 ',\n",
              " '$71,499.00 ',\n",
              " '$31,626.00 ',\n",
              " '$42,670.00 ',\n",
              " '$83,917.00 ',\n",
              " '$41,021.00 ',\n",
              " '$79,456.00 ',\n",
              " '$78,789.00 ',\n",
              " '$50,870.00 ',\n",
              " '$35,876.00 ',\n",
              " '$23,539.00 ',\n",
              " '$32,557.00 ',\n",
              " '$62,466.00 ',\n",
              " '$62,466.00 ',\n",
              " '$54,198.00 ',\n",
              " '$82,170.00 ',\n",
              " '$61,798.00 ',\n",
              " '$15,253.00 ',\n",
              " '$78,285.00 ',\n",
              " '$62,535.00 ',\n",
              " '$27,190.00 ',\n",
              " '$48,985.00 ',\n",
              " '$72,940.00 ',\n",
              " '$36,145.00 ',\n",
              " '$157,146.00 ',\n",
              " '$81,843.00 ',\n",
              " '$41,883.00 ',\n",
              " '$45,759.00 ',\n",
              " '$45,759.00 ',\n",
              " '$78,394.00 ',\n",
              " '$30,279.00 ',\n",
              " '$30,279.00 ',\n",
              " '$31,880.00 ',\n",
              " '$60,208.00 ',\n",
              " '$78,687.00 ',\n",
              " '$37,401.00 ',\n",
              " '$37,401.00 ',\n",
              " '$75,315.00 ',\n",
              " '$69,263.00 ',\n",
              " '$78,569.00 ',\n",
              " '$57,705.00 ',\n",
              " '$74,805.00 ',\n",
              " '$66,426.00 ',\n",
              " '$51,529.00 ',\n",
              " '$18,100.00 ',\n",
              " '$59,601.00 ',\n",
              " '$20,981.00 ',\n",
              " '$74,068.00 ',\n",
              " '$36,790.00 ',\n",
              " '$18,793.00 ',\n",
              " '$27,421.00 ',\n",
              " '$30,675.00 ',\n",
              " '$83,145.00 ',\n",
              " '$34,053.00 ',\n",
              " '$31,788.00 ',\n",
              " '$41,986.00 ',\n",
              " '$42,769.00 ',\n",
              " '$58,582.00 ',\n",
              " '$49,096.00 ',\n",
              " '$76,412.00 ',\n",
              " '$18,929.00 ',\n",
              " '$18,929.00 ',\n",
              " '$18,929.00 ',\n",
              " '$21,888.00 ',\n",
              " '$41,580.00 ',\n",
              " '$31,605.00 ',\n",
              " '$25,509.00 ',\n",
              " '$25,509.00 ',\n",
              " '$33,051.00 ',\n",
              " '$28,764.00 ',\n",
              " '$32,146.00 ',\n",
              " '$22,148.00 ',\n",
              " '$36,781.00 ',\n",
              " '$54,197.00 ',\n",
              " '$93,790.00 ',\n",
              " '$24,762.00 ',\n",
              " '$30,477.00 ',\n",
              " '$11,448.00 ',\n",
              " '$70,844.00 ',\n",
              " '$30,828.00 ',\n",
              " '$62,513.00 ',\n",
              " '$27,733.00 ',\n",
              " '$39,435.00 ',\n",
              " '$75,345.00 ',\n",
              " '$20,491.00 ',\n",
              " '$36,715.00 ',\n",
              " '$71,706.00 ',\n",
              " '$69,063.00 ',\n",
              " '$24,645.00 ',\n",
              " '$35,797.00 ',\n",
              " '$44,078.00 ',\n",
              " '$26,954.00 ',\n",
              " '$38,887.00 ',\n",
              " '$65,463.00 ',\n",
              " '$53,537.00 ',\n",
              " '$36,230.00 ',\n",
              " '$80,763.00 ',\n",
              " '$60,585.00 ',\n",
              " '$49,166.00 ',\n",
              " '$75,261.00 ',\n",
              " '$89,891.00 ',\n",
              " '$72,828.00 ',\n",
              " '$75,278.00 ',\n",
              " '$38,557.00 ',\n",
              " '$81,300.00 ',\n",
              " '$60,161.00 ',\n",
              " '$69,389.00 ',\n",
              " '$64,497.00 ',\n",
              " '$61,014.00 ',\n",
              " '$44,319.00 ',\n",
              " '$53,233.00 ',\n",
              " '$77,972.00 ',\n",
              " '$81,361.00 ',\n",
              " '$81,361.00 ',\n",
              " '$25,707.00 ',\n",
              " '$42,403.00 ',\n",
              " '$65,704.00 ',\n",
              " '$37,406.00 ',\n",
              " '$39,767.00 ',\n",
              " '$54,210.00 ',\n",
              " '$57,136.00 ',\n",
              " '$40,794.00 ',\n",
              " '$83,003.00 ',\n",
              " '$89,058.00 ',\n",
              " '$20,193.00 ',\n",
              " '$72,099.00 ',\n",
              " '$43,824.00 ',\n",
              " '$66,653.00 ',\n",
              " '$44,359.00 ',\n",
              " '$79,410.00 ',\n",
              " '$55,842.00 ',\n",
              " '$79,946.00 ',\n",
              " '$88,194.00 ',\n",
              " '$80,184.00 ',\n",
              " '$76,982.00 ',\n",
              " '$65,295.00 ',\n",
              " '$57,100.00 ',\n",
              " '$29,009.00 ',\n",
              " '$78,931.00 ',\n",
              " '$7,500.00 ',\n",
              " '$56,939.00 ',\n",
              " '$64,509.00 ',\n",
              " '$30,093.00 ',\n",
              " '$30,351.00 ',\n",
              " '$30,351.00 ',\n",
              " '$38,201.00 ',\n",
              " '$43,974.00 ',\n",
              " '$38,200.00 ',\n",
              " '$87,305.00 ',\n",
              " '$16,860.00 ',\n",
              " '$27,213.00 ',\n",
              " '$7,500.00 ',\n",
              " '$4,861.00 ',\n",
              " '$38,196.00 ',\n",
              " '$41,145.00 ',\n",
              " '$38,513.00 ',\n",
              " '$45,688.00 ',\n",
              " '$77,863.00 ',\n",
              " '$42,169.00 ',\n",
              " '$45,906.00 ',\n",
              " '$35,388.00 ',\n",
              " '$80,952.00 ',\n",
              " '$39,898.00 ',\n",
              " '$39,898.00 ',\n",
              " '$44,051.00 ',\n",
              " '$86,718.00 ',\n",
              " '$80,141.00 ',\n",
              " '$58,597.00 ',\n",
              " '$70,356.00 ',\n",
              " '$46,904.00 ',\n",
              " '$37,760.00 ',\n",
              " '$37,760.00 ',\n",
              " '$61,839.00 ',\n",
              " '$29,791.00 ',\n",
              " '$48,918.00 ',\n",
              " '$48,918.00 ',\n",
              " '$58,692.00 ',\n",
              " '$39,356.00 ',\n",
              " '$76,234.00 ',\n",
              " '$55,434.00 ',\n",
              " '$66,835.00 ',\n",
              " '$66,835.00 ',\n",
              " '$71,965.00 ',\n",
              " '$74,538.00 ',\n",
              " '$50,002.00 ',\n",
              " '$53,977.00 ',\n",
              " '$53,977.00 ',\n",
              " '$69,930.00 ',\n",
              " '$62,981.00 ',\n",
              " '$46,014.00 ',\n",
              " '$18,227.00 ',\n",
              " '$65,991.00 ',\n",
              " '$38,808.00 ',\n",
              " '$160,803.00 ',\n",
              " '$43,783.00 ',\n",
              " '$30,396.00 ',\n",
              " '$65,526.00 ',\n",
              " '$65,526.00 ',\n",
              " '$55,956.00 ',\n",
              " '$55,563.00 ',\n",
              " '$57,236.00 ',\n",
              " '$89,694.00 ',\n",
              " '$57,420.00 ',\n",
              " '$33,622.00 ',\n",
              " '$29,999.00 ',\n",
              " '$31,497.00 ',\n",
              " '$31,497.00 ',\n",
              " '$36,802.00 ',\n",
              " '$61,671.00 ',\n",
              " '$60,182.00 ',\n",
              " '$29,732.00 ',\n",
              " '$45,921.00 ',\n",
              " '$16,529.00 ',\n",
              " '$98,777.00 ',\n",
              " '$98,777.00 ',\n",
              " '$77,027.00 ',\n",
              " '$69,139.00 ',\n",
              " '$69,139.00 ',\n",
              " '$65,169.00 ',\n",
              " '$40,049.00 ',\n",
              " '$69,755.00 ',\n",
              " '$54,456.00 ',\n",
              " '$666,666.00 ',\n",
              " '$60,689.00 ',\n",
              " '$26,487.00 ',\n",
              " '$28,164.00 ',\n",
              " '$22,585.00 ',\n",
              " '$64,795.00 ',\n",
              " '$42,000.00 ',\n",
              " '$42,000.00 ',\n",
              " '$70,713.00 ',\n",
              " '$82,800.00 ',\n",
              " '$82,800.00 ',\n",
              " '$30,801.00 ',\n",
              " '$83,891.00 ',\n",
              " '$38,054.00 ',\n",
              " '$14,045.00 ',\n",
              " '$44,155.00 ',\n",
              " '$57,642.00 ',\n",
              " '$31,353.00 ',\n",
              " '$31,353.00 ',\n",
              " '$41,335.00 ',\n",
              " '$41,335.00 ',\n",
              " '$19,789.00 ',\n",
              " '$35,946.00 ',\n",
              " '$36,262.00 ',\n",
              " '$44,551.00 ',\n",
              " '$71,367.00 ',\n",
              " '$71,367.00 ',\n",
              " '$57,957.00 ',\n",
              " '$50,334.00 ',\n",
              " '$48,150.00 ',\n",
              " '$56,796.00 ',\n",
              " '$56,796.00 ',\n",
              " '$52,278.00 ',\n",
              " '$52,278.00 ',\n",
              " '$7,500.00 ',\n",
              " '$33,444.00 ',\n",
              " '$20,895.00 ',\n",
              " '$37,509.00 ',\n",
              " '$88,097.00 ',\n",
              " '$59,041.00 ',\n",
              " '$43,322.00 ',\n",
              " '$46,015.00 ',\n",
              " '$46,015.00 ',\n",
              " '$34,242.00 ',\n",
              " '$65,210.00 ',\n",
              " '$50,520.00 ',\n",
              " '$90,765.00 ',\n",
              " '$80,589.00 ',\n",
              " '$49,572.00 ',\n",
              " '$75,437.00 ',\n",
              " '$44,635.00 ',\n",
              " '$58,512.00 ',\n",
              " '$62,000.00 ',\n",
              " '$54,252.00 ',\n",
              " '$45,068.00 ',\n",
              " '$60,474.00 ',\n",
              " '$60,474.00 ',\n",
              " '$56,337.00 ',\n",
              " '$22,434.00 ',\n",
              " '$61,416.00 ',\n",
              " '$92,163.00 ',\n",
              " '$58,656.00 ',\n",
              " '$8,940.00 ',\n",
              " '$26,646.00 ',\n",
              " '$19,346.00 ',\n",
              " '$59,892.00 ',\n",
              " '$71,613.00 ',\n",
              " '$25,252.00 ',\n",
              " '$42,160.00 ',\n",
              " '$15,862.00 ',\n",
              " '$82,584.00 ',\n",
              " '$38,360.00 ',\n",
              " '$34,941.00 ',\n",
              " '$61,823.00 ',\n",
              " '$90,226.00 ',\n",
              " '$44,989.00 ',\n",
              " '$44,989.00 ',\n",
              " '$43,586.00 ',\n",
              " '$32,233.00 ',\n",
              " '$62,882.00 ',\n",
              " '$57,288.00 ',\n",
              " '$75,774.00 ',\n",
              " '$75,774.00 ',\n",
              " '$90,247.00 ',\n",
              " '$32,218.00 ',\n",
              " '$84,219.00 ',\n",
              " '$84,219.00 ',\n",
              " '$48,877.00 ',\n",
              " '$60,905.00 ',\n",
              " '$75,236.00 ',\n",
              " '$62,551.00 ',\n",
              " '$70,123.00 ',\n",
              " '$50,785.00 ',\n",
              " '$15,315.00 ',\n",
              " '$15,315.00 ',\n",
              " '$64,413.00 ',\n",
              " '$87,171.00 ',\n",
              " '$30,081.00 ',\n",
              " '$20,180.00 ',\n",
              " '$20,180.00 ',\n",
              " '$55,686.00 ',\n",
              " '$26,887.00 ',\n",
              " '$61,996.00 ',\n",
              " '$51,537.00 ',\n",
              " '$72,025.00 ',\n",
              " '$30,538.00 ',\n",
              " '$61,618.00 ',\n",
              " '$77,343.00 ',\n",
              " '$75,433.00 ',\n",
              " '$82,571.00 ',\n",
              " '$60,033.00 ',\n",
              " '$39,062.00 ',\n",
              " '$30,023.00 ',\n",
              " '$30,015.00 ',\n",
              " '$33,228.00 ',\n",
              " '$55,267.00 ',\n",
              " '$66,886.00 ',\n",
              " '$72,258.00 ',\n",
              " '$82,733.00 ',\n",
              " '$45,146.00 ',\n",
              " '$51,250.00 ',\n",
              " '$32,871.00 ',\n",
              " '$63,855.00 ',\n",
              " '$42,564.00 ',\n",
              " '$46,344.00 ',\n",
              " '$70,971.00 ',\n",
              " '$4,023.00 ',\n",
              " '$33,279.00 ',\n",
              " '$42,693.00 ',\n",
              " '$70,545.00 ',\n",
              " '$65,486.00 ',\n",
              " '$77,882.00 ',\n",
              " '$78,468.00 ',\n",
              " '$77,226.00 ',\n",
              " '$90,638.00 ',\n",
              " '$90,638.00 ',\n",
              " '$70,666.00 ',\n",
              " '$59,052.00 ',\n",
              " '$13,084.00 ',\n",
              " '$49,160.00 ',\n",
              " '$23,272.00 ',\n",
              " '$49,476.00 ',\n",
              " '$62,694.00 ',\n",
              " '$57,906.00 ',\n",
              " '$71,853.00 ',\n",
              " '$71,853.00 ',\n",
              " '$65,031.00 ',\n",
              " '$30,507.00 ',\n",
              " '$67,419.00 ',\n",
              " '$59,462.00 ',\n",
              " '$95,529.00 ',\n",
              " '$53,653.00 ',\n",
              " '$25,965.00 ',\n",
              " '$22,979.00 ',\n",
              " '$64,950.00 ',\n",
              " '$44,322.00 ',\n",
              " '$30,096.00 ',\n",
              " '$30,096.00 ',\n",
              " '$56,628.00 ',\n",
              " '$82,326.00 ',\n",
              " '$71,163.00 ',\n",
              " '$71,022.00 ',\n",
              " '$42,607.00 ',\n",
              " '$43,057.00 ',\n",
              " '$47,808.00 ',\n",
              " '$29,236.00 ',\n",
              " '$40,590.00 ',\n",
              " '$40,590.00 ',\n",
              " '$77,520.00 ',\n",
              " '$40,211.00 ',\n",
              " '$63,516.00 ',\n",
              " '$53,034.00 ',\n",
              " '$22,669.00 ',\n",
              " '$79,908.00 ',\n",
              " '$69,867.00 ',\n",
              " '$70,287.00 ',\n",
              " '$37,070.00 ',\n",
              " '$37,070.00 ',\n",
              " '$38,179.00 ',\n",
              " '$39,922.00 ',\n",
              " '$39,922.00 ',\n",
              " '$39,922.00 ',\n",
              " '$64,191.00 ',\n",
              " '$41,658.00 ',\n",
              " '$40,780.00 ',\n",
              " '$77,568.00 ',\n",
              " '$66,503.00 ',\n",
              " '$83,512.00 ',\n",
              " '$31,686.00 ',\n",
              " '$71,322.00 ',\n",
              " '$27,938.00 ',\n",
              " '$22,263.00 ',\n",
              " '$42,162.00 ',\n",
              " '$162,397.00 ',\n",
              " '$54,162.00 ',\n",
              " '$41,769.00 ',\n",
              " '$44,953.00 ',\n",
              " '$37,717.00 ',\n",
              " '$37,717.00 ',\n",
              " '$40,548.00 ',\n",
              " '$67,893.00 ',\n",
              " '$69,267.00 ',\n",
              " '$9,548.00 ',\n",
              " '$68,281.00 ',\n",
              " '$92,556.00 ',\n",
              " '$48,526.00 ',\n",
              " '$90,273.00 ',\n",
              " '$19,414.00 ',\n",
              " '$79,761.00 ',\n",
              " '$53,312.00 ',\n",
              " '$41,039.00 ',\n",
              " '$88,347.00 ',\n",
              " '$50,150.00 ',\n",
              " '$50,150.00 ',\n",
              " '$10,245.00 ',\n",
              " '$33,454.00 ',\n",
              " '$40,887.00 ',\n",
              " '$55,914.00 ',\n",
              " '$37,292.00 ',\n",
              " '$52,914.00 ',\n",
              " '$24,884.00 ',\n",
              " '$67,384.00 ',\n",
              " '$51,651.00 ',\n",
              " '$82,497.00 ',\n",
              " '$32,632.00 ',\n",
              " '$79,146.00 ',\n",
              " '$79,146.00 ',\n",
              " '$36,143.00 ',\n",
              " '$27,159.00 ',\n",
              " '$76,800.00 ',\n",
              " '$75,794.00 ',\n",
              " '$30,833.00 ',\n",
              " '$26,518.00 ',\n",
              " '$91,065.00 ',\n",
              " '$45,183.00 ',\n",
              " '$48,070.00 ',\n",
              " '$30,372.00 ',\n",
              " '$30,372.00 ',\n",
              " '$57,036.00 ',\n",
              " '$66,731.00 ',\n",
              " '$35,682.00 ',\n",
              " '$10,979.00 ',\n",
              " '$10,979.00 ',\n",
              " '$57,912.00 ',\n",
              " '$35,788.00 ',\n",
              " '$42,243.00 ',\n",
              " '$46,086.00 ',\n",
              " '$61,346.00 ',\n",
              " '$33,316.00 ',\n",
              " '$33,316.00 ',\n",
              " '$21,063.00 ',\n",
              " '$33,697.00 ',\n",
              " '$25,804.00 ',\n",
              " '$72,117.00 ',\n",
              " '$61,286.00 ',\n",
              " '$61,286.00 ',\n",
              " '$55,635.00 ',\n",
              " '$42,021.00 ',\n",
              " '$75,251.00 ',\n",
              " '$53,374.00 ',\n",
              " '$87,195.00 ',\n",
              " '$42,395.00 ',\n",
              " '$82,427.00 ',\n",
              " '$44,602.00 ',\n",
              " '$94,642.00 ',\n",
              " '$28,359.00 ',\n",
              " '$55,801.00 ',\n",
              " '$92,955.00 ',\n",
              " '$56,534.00 ',\n",
              " '$69,627.00 ',\n",
              " '$78,579.00 ',\n",
              " '$44,964.00 ',\n",
              " '$30,899.00 ',\n",
              " '$78,825.00 ',\n",
              " '$25,545.00 ',\n",
              " '$47,111.00 ',\n",
              " '$49,667.00 ',\n",
              " '$66,000.00 ',\n",
              " '$46,910.00 ',\n",
              " '$25,224.00 ',\n",
              " '$77,382.00 ',\n",
              " '$28,420.00 ',\n",
              " '$32,952.00 ',\n",
              " '$46,149.00 ',\n",
              " '$83,532.00 ',\n",
              " '$73,059.00 ',\n",
              " '$73,059.00 ',\n",
              " '$35,701.00 ',\n",
              " '$89,616.00 ',\n",
              " '$105,471.00 ',\n",
              " '$78,427.00 ',\n",
              " '$22,518.00 ',\n",
              " '$39,660.00 ',\n",
              " '$52,203.00 ',\n",
              " '$35,860.00 ',\n",
              " '$35,860.00 ',\n",
              " '$35,860.00 ',\n",
              " '$35,860.00 ',\n",
              " '$76,842.00 ',\n",
              " '$15,033.00 ',\n",
              " '$67,353.00 ',\n",
              " '$17,003.00 ',\n",
              " '$65,735.00 ',\n",
              " '$45,684.00 ',\n",
              " '$21,918.00 ',\n",
              " '$51,267.00 ',\n",
              " '$59,868.00 ',\n",
              " '$51,373.00 ',\n",
              " '$46,692.00 ',\n",
              " '$157,733.00 ',\n",
              " '$79,607.00 ',\n",
              " '$51,813.00 ',\n",
              " '$17,487.00 ',\n",
              " '$62,859.00 ',\n",
              " '$61,074.00 ',\n",
              " '$43,638.00 ',\n",
              " '$58,116.00 ',\n",
              " '$62,187.00 ',\n",
              " '$46,344.00 ',\n",
              " '$77,353.00 ',\n",
              " '$69,759.00 ',\n",
              " '$21,846.00 ',\n",
              " '$76,532.00 ',\n",
              " '$70,053.00 ',\n",
              " '$75,342.00 ',\n",
              " '$27,590.00 ',\n",
              " '$51,148.00 ',\n",
              " '$33,378.00 ',\n",
              " '$32,644.00 ',\n",
              " '$12,393.00 ',\n",
              " '$42,710.00 ',\n",
              " '$82,347.00 ',\n",
              " '$82,347.00 ',\n",
              " '$22,554.00 ',\n",
              " '$17,323.00 ',\n",
              " '$78,028.00 ',\n",
              " '$63,887.00 ',\n",
              " '$32,727.00 ',\n",
              " '$29,103.00 ',\n",
              " '$61,482.00 ',\n",
              " '$20,587.00 ',\n",
              " '$20,587.00 ',\n",
              " '$52,190.00 ',\n",
              " '$48,186.00 ',\n",
              " '$19,329.00 ',\n",
              " '$34,109.00 ',\n",
              " '$23,477.00 ',\n",
              " '$47,472.00 ',\n",
              " '$14,849.00 ',\n",
              " '$26,224.00 ',\n",
              " '$27,238.00 ',\n",
              " '$57,967.00 ',\n",
              " '$51,569.00 ',\n",
              " '$72,550.00 ',\n",
              " '$44,511.00 ',\n",
              " '$62,972.00 ',\n",
              " '$62,972.00 ',\n",
              " '$77,845.00 ',\n",
              " '$36,663.00 ',\n",
              " '$53,204.00 ',\n",
              " '$21,059.00 ',\n",
              " '$67,087.00 ',\n",
              " '$73,892.00 ',\n",
              " '$75,114.00 ',\n",
              " '$42,192.00 ',\n",
              " '$31,454.00 ',\n",
              " '$22,775.00 ',\n",
              " '$22,775.00 ',\n",
              " '$31,590.00 ',\n",
              " '$80,134.00 ',\n",
              " '$80,134.00 ',\n",
              " '$14,188.00 ',\n",
              " '$18,169.00 ',\n",
              " '$62,503.00 ',\n",
              " '$46,734.00 ',\n",
              " '$68,126.00 ',\n",
              " '$52,869.00 ',\n",
              " '$26,576.00 ',\n",
              " '$75,825.00 ',\n",
              " '$57,045.00 ',\n",
              " '$34,984.00 ',\n",
              " '$27,803.00 ',\n",
              " '$69,283.00 ',\n",
              " '$18,746.00 ',\n",
              " '$70,924.00 ',\n",
              " '$70,924.00 ',\n",
              " '$69,401.00 ',\n",
              " '$75,012.00 ',\n",
              " '$85,738.00 ',\n",
              " '$60,934.00 ',\n",
              " '$27,161.00 ',\n",
              " '$64,325.00 ',\n",
              " '$18,978.00 ',\n",
              " '$41,124.00 ',\n",
              " '$39,684.00 ',\n",
              " '$53,378.00 ',\n",
              " '$37,040.00 ',\n",
              " '$78,710.00 ',\n",
              " '$92,910.00 ',\n",
              " '$36,283.00 ',\n",
              " '$79,632.00 ',\n",
              " '$28,587.00 ',\n",
              " '$88,325.00 ',\n",
              " '$51,412.00 ',\n",
              " '$63,998.00 ',\n",
              " '$38,593.00 ',\n",
              " '$27,889.00 ',\n",
              " '$45,889.00 ',\n",
              " '$16,014.00 ',\n",
              " '$61,331.00 ',\n",
              " '$70,893.00 ',\n",
              " '$2,447.00 ',\n",
              " '$64,849.00 ',\n",
              " '$42,387.00 ',\n",
              " '$80,617.00 ',\n",
              " '$54,006.00 ',\n",
              " '$16,531.00 ',\n",
              " '$30,843.00 ',\n",
              " '$18,988.00 ',\n",
              " '$81,051.00 ',\n",
              " '$39,747.00 ',\n",
              " '$34,554.00 ',\n",
              " '$52,854.00 ',\n",
              " '$81,205.00 ',\n",
              " '$69,084.00 ',\n",
              " '$69,084.00 ',\n",
              " '$65,352.00 ',\n",
              " '$22,063.00 ',\n",
              " '$47,691.00 ',\n",
              " '$29,187.00 ',\n",
              " '$72,504.00 ',\n",
              " '$33,986.00 ',\n",
              " '$42,386.00 ',\n",
              " '$42,386.00 ',\n",
              " '$36,957.00 ',\n",
              " '$13,724.00 ',\n",
              " '$42,664.00 ',\n",
              " '$37,334.00 ',\n",
              " '$78,497.00 ',\n",
              " '$78,497.00 ',\n",
              " '$58,821.00 ',\n",
              " '$58,398.00 ',\n",
              " '$80,950.00 ',\n",
              " '$30,732.00 ',\n",
              " '$89,572.00 ',\n",
              " '$57,107.00 ',\n",
              " '$76,467.00 ',\n",
              " '$51,315.00 ',\n",
              " '$43,602.00 ',\n",
              " '$38,643.00 ',\n",
              " '$49,090.00 ',\n",
              " '$70,617.00 ',\n",
              " '$67,536.00 ',\n",
              " '$27,573.00 ',\n",
              " '$13,533.00 ',\n",
              " '$50,725.00 ',\n",
              " '$25,851.00 ',\n",
              " '$57,113.00 ',\n",
              " '$62,847.00 ',\n",
              " '$68,627.00 ',\n",
              " '$25,271.00 ',\n",
              " '$63,810.00 ',\n",
              " '$63,810.00 ',\n",
              " '$65,488.00 ',\n",
              " '$36,927.00 ',\n",
              " '$22,108.00 ',\n",
              " '$72,025.00 ',\n",
              " '$33,183.00 ',\n",
              " '$23,661.00 ',\n",
              " '$25,315.00 ',\n",
              " '$45,938.00 ',\n",
              " '$66,951.00 ',\n",
              " '$77,298.00 ',\n",
              " '$77,298.00 ',\n",
              " '$43,018.00 ',\n",
              " '$75,759.00 ',\n",
              " '$33,996.00 ',\n",
              " '$33,996.00 ',\n",
              " '$54,137.00 ',\n",
              " '$61,223.00 ',\n",
              " '$49,494.00 ',\n",
              " '$51,195.00 ',\n",
              " '$37,284.00 ',\n",
              " '$37,284.00 ',\n",
              " '$42,011.00 ',\n",
              " '$70,044.00 ',\n",
              " '$46,053.00 ',\n",
              " '$24,480.00 ',\n",
              " '$54,233.00 ',\n",
              " '$36,130.00 ',\n",
              " '$56,559.00 ',\n",
              " '$92,859.00 ',\n",
              " ...]"
            ]
          },
          "metadata": {},
          "execution_count": 10
        }
      ]
    },
    {
      "cell_type": "code",
      "source": [
        "import re\n",
        "\n",
        "def cleaning(df):\n",
        "  li = []\n",
        "  for row in df['Income']:\n",
        "    splited = row.split('.') # .을 기준으로 문자열을 분리합니다.\n",
        "    result = re.sub('[^0-9]','', splited[0]) # .기준 앞 부분만 활용하여 숫자가 아닌 문자는 공백으로 치환합니다.\n",
        "    li.append(int(result))\n",
        "  df['Income'] = li\n",
        "\n",
        "cleaning(df)"
      ],
      "metadata": {
        "colab": {
          "base_uri": "https://localhost:8080/"
        },
        "id": "kbtsgoyaeRYt",
        "outputId": "2eba6e2e-8650-4cdf-d6ef-e57edf4a5c0d"
      },
      "execution_count": 11,
      "outputs": [
        {
          "output_type": "stream",
          "name": "stderr",
          "text": [
            "<ipython-input-11-4256e6907c61>:9: SettingWithCopyWarning: \n",
            "A value is trying to be set on a copy of a slice from a DataFrame.\n",
            "Try using .loc[row_indexer,col_indexer] = value instead\n",
            "\n",
            "See the caveats in the documentation: https://pandas.pydata.org/pandas-docs/stable/user_guide/indexing.html#returning-a-view-versus-a-copy\n",
            "  df['Income'] = li\n"
          ]
        }
      ]
    },
    {
      "cell_type": "code",
      "source": [
        "df = df.reset_index(drop = True)"
      ],
      "metadata": {
        "id": "RlZKXNvxkx8k"
      },
      "execution_count": 12,
      "outputs": []
    },
    {
      "cell_type": "code",
      "source": [
        "import matplotlib.pyplot as plt\n",
        "\n",
        "plt.hist(df['Income']);\n",
        "\n",
        "plt.hist(df.loc[df['Income'] < 120000, 'Income']);"
      ],
      "metadata": {
        "colab": {
          "base_uri": "https://localhost:8080/",
          "height": 265
        },
        "id": "3fdVTVkMkcQ_",
        "outputId": "c34b306b-afcf-41d6-f514-9b5d63c79e1f"
      },
      "execution_count": 13,
      "outputs": [
        {
          "output_type": "display_data",
          "data": {
            "text/plain": [
              "<Figure size 432x288 with 1 Axes>"
            ],
            "image/png": "[encoded data removed]"
          },
          "metadata": {
            "needs_background": "light"
          }
        }
      ]
    },
    {
      "cell_type": "code",
      "source": [
        "df_final = df[df.Income < 120000]"
      ],
      "metadata": {
        "id": "zh_H6Rlvk_ny"
      },
      "execution_count": 14,
      "outputs": []
    },
    {
      "cell_type": "code",
      "source": [
        "df_final.shape"
      ],
      "metadata": {
        "colab": {
          "base_uri": "https://localhost:8080/"
        },
        "id": "37bPeqUllaZf",
        "outputId": "f54b7d31-e2e9-4c43-c26d-ae66c2771501"
      },
      "execution_count": 15,
      "outputs": [
        {
          "output_type": "execute_result",
          "data": {
            "text/plain": [
              "(2111, 22)"
            ]
          },
          "metadata": {},
          "execution_count": 15
        }
      ]
    },
    {
      "cell_type": "markdown",
      "source": [
        "### **2-2. sample의 평균값과 모집단의 평균값을 비교해봅니다.**\n",
        "\n",
        "- `seed`는 2로 지정하세요.\n",
        "  - 동일한 결과값을 도출하기 위해, seed 지정 코드 하단에 이 문제에 대한 코드를 작성해주세요.\n",
        "- `df_final`을 모집단으로 가정한 후, `Income` column의 평균을 구해 `mean_pop` 변수에 저장하세요.\n",
        "- sample size가 5일 때, 해당 데이터셋의 `Income` 데이터를 10,000번 중복 추출한 표본 평균들을 `sample_5` 라는 이름의 array에 저장하세요.\n",
        "  - `mean_pop`에서 `sample_5`의 평균을 뺀 값을 `diff_5`에 저장하세요.\n",
        "- sample size가 200일 때, 해당 데이터셋의 `Income` 데이터를 10,000번 중복 추출한 표본 평균들을 `sample_200` 라는 이름의 array에 저장하세요.\n",
        "  - `mean_pop`에서 `sample_200`의 평균을 뺀 값을 `diff_200`에 저장하세요.\n",
        "\n",
        "\n"
      ],
      "metadata": {
        "id": "3iICO7ltZe_Y"
      }
    },
    {
      "cell_type": "markdown",
      "source": [
        "##### **Q3. `diff_5`, `diff_200`의 결과를 각각 반올림하여 소수점 둘째 자리까지 (`diff_5`, `diff_200`)의 형태로 쓰세요.**\n",
        "\n",
        "- 동일한 결과값을 도출하기 위해, seed 지정 코드를 반드시 실행 해야 합니다.\n",
        "- 2-2 문제를 푸는데 필요한 모든 내용이 seed 지정 코드가 있는 셀에 들어가도록 코드를 작성해주세요.\n"
      ],
      "metadata": {
        "id": "1xyWbCuNBbRq"
      }
    },
    {
      "cell_type": "code",
      "source": [
        "import numpy as np# seed 지정 (반드시 실행)\n",
        "np.random.seed(2)\n",
        "\n",
        "mean_pop = df_final.Income.mean()"
      ],
      "metadata": {
        "id": "zft5OPCcXGef"
      },
      "execution_count": 16,
      "outputs": []
    },
    {
      "cell_type": "code",
      "source": [
        "sample_5 = []\n",
        "\n",
        "for i in range(10000):\n",
        "  sample = np.random.choice(df_final.Income, 5, replace = True)\n",
        "  sample_5.append(sample.mean())\n",
        "\n",
        "sample_5 = np.array(sample_5)\n",
        "sample_5_mean = sample_5.mean()\n",
        "diff_5 = mean_pop - sample_5_mean"
      ],
      "metadata": {
        "id": "Cb6CLmqilzSW"
      },
      "execution_count": 17,
      "outputs": []
    },
    {
      "cell_type": "code",
      "source": [
        "sample_200 = []\n",
        "\n",
        "for i in range(10000):\n",
        "  sample = np.random.choice(df_final.Income, 200, replace = True)\n",
        "  sample_200.append(sample.mean())\n",
        "\n",
        "sample_200 = np.array(sample_200)\n",
        "sample_200_mean = sample_200.mean()\n",
        "diff_200 = mean_pop - sample_200_mean"
      ],
      "metadata": {
        "id": "xTpCTm8bma73"
      },
      "execution_count": 18,
      "outputs": []
    },
    {
      "cell_type": "code",
      "source": [
        "round(diff_5,2),round(diff_200,2)"
      ],
      "metadata": {
        "colab": {
          "base_uri": "https://localhost:8080/"
        },
        "id": "Dy22o2TlmtEP",
        "outputId": "58921ed4-d966-4350-86ab-68f9c9b59b8f"
      },
      "execution_count": 19,
      "outputs": [
        {
          "output_type": "execute_result",
          "data": {
            "text/plain": [
              "(101.97, 11.35)"
            ]
          },
          "metadata": {},
          "execution_count": 19
        }
      ]
    },
    {
      "cell_type": "markdown",
      "source": [
        "### **2-3. sample의 분포를 통해 신뢰구간을 확인합니다.**\n",
        "**2-2**에서 구현한 `sample_200` 표본 분포를 활용하여 모집단의 모수를 포함할 확률이 95%가 되는 구간을 찾아봅니다.\n",
        "\n"
      ],
      "metadata": {
        "id": "mlPTnYPCZosQ"
      }
    },
    {
      "cell_type": "markdown",
      "source": [
        "##### **Q4. 95% 신뢰구간의 lower limit과 upper limit을 각각 반올림하여 소수점 둘째 자리까지 (lower limit, upper limit)의 형태로 쓰세요.**"
      ],
      "metadata": {
        "id": "VvDR30q5Bvk_"
      }
    },
    {
      "cell_type": "code",
      "source": [
        "upper = np.percentile(sample_200, 97.5)\n",
        "lower = np.percentile(sample_200, 2.5)\n",
        "\n",
        "round(lower,2) , round(upper,2)"
      ],
      "metadata": {
        "id": "bqkUt_3WmG95",
        "colab": {
          "base_uri": "https://localhost:8080/"
        },
        "outputId": "89a0393d-e4db-45d7-fbed-4e63b7118ad0"
      },
      "execution_count": 20,
      "outputs": [
        {
          "output_type": "execute_result",
          "data": {
            "text/plain": [
              "(48895.97, 54727.84)"
            ]
          },
          "metadata": {},
          "execution_count": 20
        }
      ]
    },
    {
      "cell_type": "markdown",
      "source": [
        "## **Part 3. Hypothesis Test**\n",
        "\n",
        "데이터에서 다양한 시나리오를 파악하고 옳은 가설을 세우는 것은 매우 중요합니다. 위에 우리에게 주어진 데이터셋에 대해서도 다양한 시나리오에 대해 생각해볼 수 있습니다.\n",
        "\n",
        "주어진 데이터셋에는 자녀가 청소년인지 여부를 나타내는 `Teenhome`과 연간 수입을 나타내는 `Income` 정보가 존재하는데, 청소년 자녀가 있는 경우 자녀의 연령에 따라 증가하는 지출, 고객의 회사 내 지위 등을 고려하여 수입이 증가할 것이라는 가설을 생각해 볼 수 있습니다. \n",
        "\n",
        "따라서 **고객의 자녀가 청소년인지 여부에 따라 연간 수입 평균값의 차이가 있는지** 가설검정을 통해 확인해보도록 하겠습니다."
      ],
      "metadata": {
        "id": "DcPtz22vU_Uw"
      }
    },
    {
      "cell_type": "markdown",
      "source": [
        "### **3-1. One-tailed Test**\n",
        "\n",
        "> 고객의 자녀가 청소년인 경우의 연간 수입 평균값이 그렇지 않은 경우보다 더 많은지 가설 검증을 시행하고자 합니다. ($\\alpha$ = 0.05)\n",
        "- 자녀가 청소년인 경우 고객의 연간 수입 평균값: $μ_{yes}$\n",
        "- 자녀가 청소년이 아닌 경우 고객의 연간 수입 평균값: $μ_{no}$\n",
        "\n",
        "\n",
        "\n",
        "\n"
      ],
      "metadata": {
        "id": "Zi8GxxoqHW78"
      }
    },
    {
      "cell_type": "markdown",
      "source": [
        "\n",
        "- 이번 문제에서는 scipy 라이브러리의 [`.ttest_ind()`](https://docs.scipy.org/doc/scipy/reference/generated/scipy.stats.ttest_ind.html)를 사용하여 가설검정을 진행하세요.\n",
        "  - `equal_val` 파라미터를 False로 지정합니다."
      ],
      "metadata": {
        "id": "vuLH6E51GCVP"
      }
    },
    {
      "cell_type": "markdown",
      "source": [
        "##### **Q5. 이 경우에는 귀무가설과 대립가설을 어떻게 세워야 할까요?**\n",
        "\n",
        "a. $H_0$: $μ_{no} ≥ μ_{yes}\\;$, $\\;H_a$: $μ_{no} < μ_{yes}$\n",
        "\n",
        "b. $H_0$: $μ_{no} < μ_{yes}\\;$, $\\;H_a$: $μ_{no} ≥ μ_{yes}$\n",
        "\n",
        "c. $H_0$: $μ_{no} > μ_{yes}\\;$, $\\;H_a$: $μ_{no} ≤ μ_{yes}$\n",
        "\n",
        "d. $H_0$: $μ_{no} ≤ μ_{yes}\\;$, $\\;H_a$: $μ_{no} > μ_{yes}$\n",
        "\n",
        "\n",
        "\n"
      ],
      "metadata": {
        "id": "aTPhPeTmCF6g"
      }
    },
    {
      "cell_type": "markdown",
      "source": [
        "**`이곳에 Q5에 대한 답을 작성하세요.`**"
      ],
      "metadata": {
        "id": "1TW2aQBSZk8m"
      }
    },
    {
      "cell_type": "code",
      "source": [
        "#a"
      ],
      "metadata": {
        "id": "M0rcNkrlXskA"
      },
      "execution_count": 21,
      "outputs": []
    },
    {
      "cell_type": "code",
      "source": [
        "teen_means, noteen_means, diff_means = [], [], []\n",
        "\n",
        "for _ in range(10000):\n",
        "  sample = df_final.sample(df_final.shape[0], replace=True)\n",
        "  \n",
        "  teen_mean = sample[sample.Teenhome == 1].Income.mean()\n",
        "  teen_means.append(teen_mean)\n",
        "\n",
        "  noteen_mean = sample[sample.Teenhome == 0].Income.mean()\n",
        "  noteen_means.append(noteen_mean)\n",
        "\n",
        "  diff_means.append(teen_mean - noteen_mean)\n",
        "  "
      ],
      "metadata": {
        "id": "Uhal9tdctuNg"
      },
      "execution_count": 22,
      "outputs": []
    },
    {
      "cell_type": "code",
      "source": [
        "sample_diff_mean = df_final[df_final.Teenhome == 1].Income.mean() - df_final[df_final.Teenhome == 0].Income.mean()\n",
        "sample_diff_mean"
      ],
      "metadata": {
        "id": "XpOfe65iuxyi",
        "colab": {
          "base_uri": "https://localhost:8080/"
        },
        "outputId": "99f5e434-eb52-4d9e-ef34-eab3227dd304"
      },
      "execution_count": 23,
      "outputs": [
        {
          "output_type": "execute_result",
          "data": {
            "text/plain": [
              "1447.373652860857"
            ]
          },
          "metadata": {},
          "execution_count": 23
        }
      ]
    },
    {
      "cell_type": "code",
      "source": [
        "sample_diff_std = np.std(diff_means)\n",
        "sample_diff_std "
      ],
      "metadata": {
        "id": "4ljiH4FFuznt",
        "colab": {
          "base_uri": "https://localhost:8080/"
        },
        "outputId": "b37896af-cbbc-46df-b0b3-c21e705b2204"
      },
      "execution_count": 24,
      "outputs": [
        {
          "output_type": "execute_result",
          "data": {
            "text/plain": [
              "882.1914282802292"
            ]
          },
          "metadata": {},
          "execution_count": 24
        }
      ]
    },
    {
      "cell_type": "code",
      "source": [
        "plt.figure(figsize=(8,5))\n",
        "null_vals = np.random.normal(0, sample_diff_std, 10000) \n",
        "plt.hist(null_vals, alpha=0.5, label='null hypothesis')\n",
        "plt.axvline(sample_diff_mean, color='r', label='statistics')\n",
        "plt.legend(loc=9, fontsize=13)\n",
        "plt.show()"
      ],
      "metadata": {
        "id": "PgPIwmIbu15P",
        "colab": {
          "base_uri": "https://localhost:8080/",
          "height": 320
        },
        "outputId": "5dac08c9-d219-455e-9ef8-3df1151574f6"
      },
      "execution_count": 25,
      "outputs": [
        {
          "output_type": "display_data",
          "data": {
            "text/plain": [
              "<Figure size 576x360 with 1 Axes>"
            ],
            "image/png": "[encoded data removed]"
          },
          "metadata": {
            "needs_background": "light"
          }
        }
      ]
    },
    {
      "cell_type": "code",
      "source": [
        "round((null_vals > sample_diff_mean).mean(),3)"
      ],
      "metadata": {
        "id": "h_bLJR5Au36A",
        "colab": {
          "base_uri": "https://localhost:8080/"
        },
        "outputId": "b2be9dbe-6816-4485-dc43-1c3b9f1b7224"
      },
      "execution_count": 26,
      "outputs": [
        {
          "output_type": "execute_result",
          "data": {
            "text/plain": [
              "0.05"
            ]
          },
          "metadata": {},
          "execution_count": 26
        }
      ]
    },
    {
      "cell_type": "code",
      "source": [
        "from scipy import stats\n",
        "\n",
        "yes = df_final.loc[df_final['Teenhome'] == 1, 'Income']\n",
        "no = df_final.loc[df_final['Teenhome'] == 0, 'Income']\n",
        "\n",
        "pval1 = stats.ttest_ind(yes, no, equal_var = False, alternative='greater').pvalue\n",
        "\n",
        "round(pval1, 3)"
      ],
      "metadata": {
        "colab": {
          "base_uri": "https://localhost:8080/"
        },
        "id": "p7vjU8vHI8RP",
        "outputId": "b6a2fe58-b1ee-433a-9688-e1c4b24f2fe1"
      },
      "execution_count": 31,
      "outputs": [
        {
          "output_type": "execute_result",
          "data": {
            "text/plain": [
              "0.051"
            ]
          },
          "metadata": {},
          "execution_count": 31
        }
      ]
    },
    {
      "cell_type": "code",
      "source": [
        "yes.mean()"
      ],
      "metadata": {
        "colab": {
          "base_uri": "https://localhost:8080/"
        },
        "id": "WZQPV0-gI_TJ",
        "outputId": "4dc272ef-2e58-4d3b-b476-10d726d22c34"
      },
      "execution_count": 32,
      "outputs": [
        {
          "output_type": "execute_result",
          "data": {
            "text/plain": [
              "52581.50354609929"
            ]
          },
          "metadata": {},
          "execution_count": 32
        }
      ]
    },
    {
      "cell_type": "markdown",
      "source": [
        "##### **Q6. 다음 중 위의 가설검정 결과로 나온 p-value를 통해 도출한 결론을 고르세요.** \n",
        "\n",
        "a. p-value가 0.05보다 작으므로 귀무가설을 기각하고 대립가설을 채택한다.\n",
        "\n",
        "b. p-value가 0.05보다 크므로 귀무가설을 기각하지 못한다.\n",
        "\n",
        "c. p-value가 0.05보다 작으므로 귀무가설을 기각하지 못한다.\n",
        "\n",
        "d. p-value가 0.05보다 크므로 귀무가설을 기각하고 대립가설을 채택한다.\n",
        "\n",
        "e. p-value가 0.05보다 크므로 귀무가설과 대립가설 모두를 채택한다."
      ],
      "metadata": {
        "id": "wxR02lXtCMjE"
      }
    },
    {
      "cell_type": "markdown",
      "source": [
        "### **3-2. Two-tailed Test**\n",
        "\n",
        "> 고객의 자녀가 청소년인 경우의 연간 수입 평균값이 그렇지 않은 경우와 차이가 있는지 가설검정을 시행하고자 합니다. ($\\alpha$ = 0.05)\n",
        "- 자녀가 청소년인 경우 고객의 연간 수입 평균값: $μ_{yes}$\n",
        "- 자녀가 청소년이 아닌 경우 고객의 연간 수입 평균값: $μ_{no}$\n",
        "\n",
        "- 이번 문제에서는 scipy 라이브러리의 [`.ttest_ind()`](https://docs.scipy.org/doc/scipy/reference/generated/scipy.stats.ttest_ind.html)를 사용하여 가설검정을 진행하세요.\n",
        "  - `equal_val` 파라미터를 False로 지정합니다.\n",
        "\n",
        "\n",
        "\n",
        "\n"
      ],
      "metadata": {
        "id": "CXIay0_nQfqC"
      }
    },
    {
      "cell_type": "markdown",
      "source": [
        "##### **Q7. 이 경우에는 귀무가설과 대립가설을 어떻게 세워야 할까요?** \n",
        "\n",
        "a. $H_0$: $μ_{no} \\neq\\; μ_{yes}\\;$, $\\;H_a$: $μ_{no} = \\;μ_{yes}$\n",
        "\n",
        "b. $H_0$: $μ_{no} < μ_{yes}\\;$, $\\;H_a$: $μ_{no} ≥ μ_{yes}$\n",
        "\n",
        "c. $H_0$: $μ_{no} =\\; μ_{yes}\\;$, $\\;H_a$: $μ_{no} \\neq \\;μ_{yes}$ \n",
        "\n",
        "d. $H_0$: $μ_{no} ≤ μ_{yes}\\;$, $\\;H_a$: $μ_{no} > μ_{yes}$\n",
        "\n",
        "</br>\n",
        "\n",
        "\n",
        "\n",
        "\n",
        "\n"
      ],
      "metadata": {
        "id": "2o_fsRGMSvPM"
      }
    },
    {
      "cell_type": "markdown",
      "source": [
        "##### **Q8. 위의 가설 검정 결과로 나온 p-value를 반올림하여 소수점 셋째 자리까지 쓰세요.**"
      ],
      "metadata": {
        "id": "lpIx4YjvCZRe"
      }
    },
    {
      "cell_type": "code",
      "source": [
        "#from scipy import stats\n",
        "#\n",
        "#yt = df_final[df_final.Teenhome == 1].Income\n",
        "#nt = df_final[df_final.Teenhome == 0].Income\n",
        "#\n",
        "#ts2, pv2 = stats.ttest_ind(yt, nt, equal_var = False, alternative = 'greater')\n",
        "#ts3, pv3 = stats.ttest_ind(nt, yt,equal_var = False, alternative = 'greater')\n",
        "#\n",
        "#pv2,pv3"
      ],
      "metadata": {
        "colab": {
          "base_uri": "https://localhost:8080/"
        },
        "id": "YrWeDL6Ju_P-",
        "outputId": "cf4c6921-2378-475d-f0e7-2d7b96bf156e"
      },
      "execution_count": 27,
      "outputs": [
        {
          "output_type": "execute_result",
          "data": {
            "text/plain": [
              "(0.05053104627306103, 0.949468953726939)"
            ]
          },
          "metadata": {},
          "execution_count": 27
        }
      ]
    },
    {
      "cell_type": "code",
      "source": [
        "pval2 = stats.ttest_ind(yes, no, equal_var = False).pvalue\n",
        "\n",
        "round(pval2, 3)"
      ],
      "metadata": {
        "colab": {
          "base_uri": "https://localhost:8080/"
        },
        "id": "jUVaJSHgJ7-V",
        "outputId": "ad6a56d2-3cf2-43d5-a5df-9c3f73f3f23e"
      },
      "execution_count": 33,
      "outputs": [
        {
          "output_type": "execute_result",
          "data": {
            "text/plain": [
              "0.101"
            ]
          },
          "metadata": {},
          "execution_count": 33
        }
      ]
    },
    {
      "cell_type": "markdown",
      "source": [
        "## **Part 4. 도전 과제**\n",
        "\n",
        "위에서 요구된 사항들을 모두 정확하게 만족하였으며, 아래 내용 또한 만족하는 경우 3점을 얻을 수 있습니다. \n",
        "\n",
        "아래 요구사항은 **optional** 임을 다시 한 번 강조합니다. (필수 요구사항이 아닙니다.)\n",
        "\n",
        "---\n",
        "\n",
        "#### **$\\chi^2$ 가설 검정을 시행합니다**\n",
        "\n",
        "우리가 사용할 $\\chi^2$ - test는 어떤 경우에 사용하는 가설 검정 방법인지 알아봅시다.\n",
        "\n",
        "\n",
        "- one sample $\\chi^2$ - test (적합도 검정)\n",
        "  > **주어진 하나의 범주형 변수의 분포가 특정 예상되는 분포와 동일한 분포를 나타내는지** 에 대한 가설 검정 방법\n",
        "\n",
        "  - 귀무가설($H_0$): 주어진 변수 X의 관측분포와 특정 예상 분포가 동일하다.\n",
        "  - 대립가설($H_a$): 주어진 변수 X의 관측분포와 특정 예상 분포가 다르다.\n",
        "\n",
        "- two sample $\\chi^2$ - test (독립성 검정)\n",
        "  > **두 개의 범주형 변수가 서로 연관되어 있는지 여부**에 대한 가설 검정 방법\n",
        "\n",
        "  - 귀무가설($H_0$): 변수 X와 Y는 서로 독립이다. (연관 없음)\n",
        "  - 대립가설($H_a$): 변수 X와 Y는 서로 독립이 아니다. (연관 있음)\n",
        "\n",
        "</br>\n",
        "\n",
        "위의 가설검정 방법에 대한 설명을 참고하여 진행해봅니다.\n"
      ],
      "metadata": {
        "id": "YzB1I36NgOkw"
      }
    },
    {
      "cell_type": "markdown",
      "source": [
        "### **4-1. one sample $\\chi^2$ - test**\n",
        "\n",
        "> XYZ사는 다국적 기업으로 다양한 나라에 고객층을 확보하고 있으며, 5월을 맞아 **기혼자를 대상으로 한 이벤트를 기획**하려고 합니다. 이때, 우리는 모든 국가를 대상으로 이벤트를 진행하는 것이 효율적인지 $\\chi^2$ - test를 통해 확인해보려 합니다. 만약 국적별 기혼자의 빈도가 비슷하다면, XYZ사는 모든 국가를 대상으로 이벤트를 진행하는 것을 고려할 것이고, 그렇지 않다면, 어떤 국적의 고객이 더 많은지 파악하는 추가 분석이 필요할 것입니다.\n"
      ],
      "metadata": {
        "id": "PqOZQRk2kbkd"
      }
    },
    {
      "cell_type": "markdown",
      "source": [
        "#### **기혼자의 빈도가 모든 나라에 대해 균일한지 가설 검정을 해보세요.**\n",
        "\n",
        "---\n",
        "\n",
        "[공식문서](https://docs.scipy.org/doc/scipy/reference/generated/scipy.stats.chisquare.html)를 참고하여 아래에 명시된 가설을 검정해봅시다. ($\\alpha$ = 0.05)\n",
        "- 귀무가설($H_0$): 고객의 국적(Country)별 기혼자(Married)의 빈도가 균일하게 분포되어 있다.\n",
        "- 대립가설($H_a$): 고객의 국적(Country)별 기혼자(Married)의 빈도가 균일하게 분포되어 있지 않다.\n",
        "\n",
        "> **Hint:** categorical feature 간의 \"cross tab\"을 생성하여 탐색해 보세요 (aka [contingency tables](https://en.wikipedia.org/wiki/Contingency_table)). 그리고 $\\chi^2 test$를 적용해 보세요. [pandas.crosstab](http://pandas.pydata.org/pandas-docs/stable/reference/api/pandas.crosstab.html)을 사용하면 contingency table 을 생성할 수 있습니다."
      ],
      "metadata": {
        "id": "pHHK1iOiE1qV"
      }
    },
    {
      "cell_type": "code",
      "source": [
        "from scipy.stats import chisquare\n",
        "\n",
        "# 국적 - 결혼상태 crosstab 생성\n",
        "country_marital = pd.crosstab(df_final['Country'], df_final['Marital_Status'])\n",
        "country_marital"
      ],
      "metadata": {
        "id": "Oq1YEFIUm1Ru",
        "colab": {
          "base_uri": "https://localhost:8080/",
          "height": 332
        },
        "outputId": "a4002044-a509-49c8-84df-ebe88ac800bf"
      },
      "execution_count": 36,
      "outputs": [
        {
          "output_type": "execute_result",
          "data": {
            "text/plain": [
              "Marital_Status  Absurd  Alone  Divorced  Married  Single  Together  Widow  \\\n",
              "Country                                                                     \n",
              "AUS                  1      0        18       63      17        36      5   \n",
              "CA                   1      3        26       94      56        62      6   \n",
              "GER                  0      0         6       56      18        31      4   \n",
              "IND                  0      0        10       51      35        36      4   \n",
              "ME                   0      0         0        0       2         1      0   \n",
              "SA                   0      0        43      103      66        91     12   \n",
              "SP                   0      0       102      413     230       264     42   \n",
              "US                   0      0        16       32      28        23      2   \n",
              "\n",
              "Marital_Status  YOLO  \n",
              "Country               \n",
              "AUS                0  \n",
              "CA                 1  \n",
              "GER                0  \n",
              "IND                1  \n",
              "ME                 0  \n",
              "SA                 0  \n",
              "SP                 0  \n",
              "US                 0  "
            ],
            "text/html": [
              "\n",
              "  <div id=\"df-4653113b-563c-448d-a103-192143e9490e\">\n",
              "    <div class=\"colab-df-container\">\n",
              "      <div>\n",
              "<style scoped>\n",
              "    .dataframe tbody tr th:only-of-type {\n",
              "        vertical-align: middle;\n",
              "    }\n",
              "\n",
              "    .dataframe tbody tr th {\n",
              "        vertical-align: top;\n",
              "    }\n",
              "\n",
              "    .dataframe thead th {\n",
              "        text-align: right;\n",
              "    }\n",
              "</style>\n",
              "<table border=\"1\" class=\"dataframe\">\n",
              "  <thead>\n",
              "    <tr style=\"text-align: right;\">\n",
              "      <th>Marital_Status</th>\n",
              "      <th>Absurd</th>\n",
              "      <th>Alone</th>\n",
              "      <th>Divorced</th>\n",
              "      <th>Married</th>\n",
              "      <th>Single</th>\n",
              "      <th>Together</th>\n",
              "      <th>Widow</th>\n",
              "      <th>YOLO</th>\n",
              "    </tr>\n",
              "    <tr>\n",
              "      <th>Country</th>\n",
              "      <th></th>\n",
              "      <th></th>\n",
              "      <th></th>\n",
              "      <th></th>\n",
              "      <th></th>\n",
              "      <th></th>\n",
              "      <th></th>\n",
              "      <th></th>\n",
              "    </tr>\n",
              "  </thead>\n",
              "  <tbody>\n",
              "    <tr>\n",
              "      <th>AUS</th>\n",
              "      <td>1</td>\n",
              "      <td>0</td>\n",
              "      <td>18</td>\n",
              "      <td>63</td>\n",
              "      <td>17</td>\n",
              "      <td>36</td>\n",
              "      <td>5</td>\n",
              "      <td>0</td>\n",
              "    </tr>\n",
              "    <tr>\n",
              "      <th>CA</th>\n",
              "      <td>1</td>\n",
              "      <td>3</td>\n",
              "      <td>26</td>\n",
              "      <td>94</td>\n",
              "      <td>56</td>\n",
              "      <td>62</td>\n",
              "      <td>6</td>\n",
              "      <td>1</td>\n",
              "    </tr>\n",
              "    <tr>\n",
              "      <th>GER</th>\n",
              "      <td>0</td>\n",
              "      <td>0</td>\n",
              "      <td>6</td>\n",
              "      <td>56</td>\n",
              "      <td>18</td>\n",
              "      <td>31</td>\n",
              "      <td>4</td>\n",
              "      <td>0</td>\n",
              "    </tr>\n",
              "    <tr>\n",
              "      <th>IND</th>\n",
              "      <td>0</td>\n",
              "      <td>0</td>\n",
              "      <td>10</td>\n",
              "      <td>51</td>\n",
              "      <td>35</td>\n",
              "      <td>36</td>\n",
              "      <td>4</td>\n",
              "      <td>1</td>\n",
              "    </tr>\n",
              "    <tr>\n",
              "      <th>ME</th>\n",
              "      <td>0</td>\n",
              "      <td>0</td>\n",
              "      <td>0</td>\n",
              "      <td>0</td>\n",
              "      <td>2</td>\n",
              "      <td>1</td>\n",
              "      <td>0</td>\n",
              "      <td>0</td>\n",
              "    </tr>\n",
              "    <tr>\n",
              "      <th>SA</th>\n",
              "      <td>0</td>\n",
              "      <td>0</td>\n",
              "      <td>43</td>\n",
              "      <td>103</td>\n",
              "      <td>66</td>\n",
              "      <td>91</td>\n",
              "      <td>12</td>\n",
              "      <td>0</td>\n",
              "    </tr>\n",
              "    <tr>\n",
              "      <th>SP</th>\n",
              "      <td>0</td>\n",
              "      <td>0</td>\n",
              "      <td>102</td>\n",
              "      <td>413</td>\n",
              "      <td>230</td>\n",
              "      <td>264</td>\n",
              "      <td>42</td>\n",
              "      <td>0</td>\n",
              "    </tr>\n",
              "    <tr>\n",
              "      <th>US</th>\n",
              "      <td>0</td>\n",
              "      <td>0</td>\n",
              "      <td>16</td>\n",
              "      <td>32</td>\n",
              "      <td>28</td>\n",
              "      <td>23</td>\n",
              "      <td>2</td>\n",
              "      <td>0</td>\n",
              "    </tr>\n",
              "  </tbody>\n",
              "</table>\n",
              "</div>\n",
              "      <button class=\"colab-df-convert\" onclick=\"convertToInteractive('df-4653113b-563c-448d-a103-192143e9490e')\"\n",
              "              title=\"Convert this dataframe to an interactive table.\"\n",
              "              style=\"display:none;\">\n",
              "        \n",
              "  <svg xmlns=\"http://www.w3.org/2000/svg\" height=\"24px\"viewBox=\"0 0 24 24\"\n",
              "       width=\"24px\">\n",
              "    <path d=\"M0 0h24v24H0V0z\" fill=\"none\"/>\n",
              "    <path d=\"M18.56 5.44l.94 2.06.94-2.06 2.06-.94-2.06-.94-.94-2.06-.94 2.06-2.06.94zm-11 1L8.5 8.5l.94-2.06 2.06-.94-2.06-.94L8.5 2.5l-.94 2.06-2.06.94zm10 10l.94 2.06.94-2.06 2.06-.94-2.06-.94-.94-2.06-.94 2.06-2.06.94z\"/><path d=\"M17.41 7.96l-1.37-1.37c-.4-.4-.92-.59-1.43-.59-.52 0-1.04.2-1.43.59L10.3 9.45l-7.72 7.72c-.78.78-.78 2.05 0 2.83L4 21.41c.39.39.9.59 1.41.59.51 0 1.02-.2 1.41-.59l7.78-7.78 2.81-2.81c.8-.78.8-2.07 0-2.86zM5.41 20L4 18.59l7.72-7.72 1.47 1.35L5.41 20z\"/>\n",
              "  </svg>\n",
              "      </button>\n",
              "      \n",
              "  <style>\n",
              "    .colab-df-container {\n",
              "      display:flex;\n",
              "      flex-wrap:wrap;\n",
              "      gap: 12px;\n",
              "    }\n",
              "\n",
              "    .colab-df-convert {\n",
              "      background-color: #E8F0FE;\n",
              "      border: none;\n",
              "      border-radius: 50%;\n",
              "      cursor: pointer;\n",
              "      display: none;\n",
              "      fill: #1967D2;\n",
              "      height: 32px;\n",
              "      padding: 0 0 0 0;\n",
              "      width: 32px;\n",
              "    }\n",
              "\n",
              "    .colab-df-convert:hover {\n",
              "      background-color: #E2EBFA;\n",
              "      box-shadow: 0px 1px 2px rgba(60, 64, 67, 0.3), 0px 1px 3px 1px rgba(60, 64, 67, 0.15);\n",
              "      fill: #174EA6;\n",
              "    }\n",
              "\n",
              "    [theme=dark] .colab-df-convert {\n",
              "      background-color: #3B4455;\n",
              "      fill: #D2E3FC;\n",
              "    }\n",
              "\n",
              "    [theme=dark] .colab-df-convert:hover {\n",
              "      background-color: #434B5C;\n",
              "      box-shadow: 0px 1px 3px 1px rgba(0, 0, 0, 0.15);\n",
              "      filter: drop-shadow(0px 1px 2px rgba(0, 0, 0, 0.3));\n",
              "      fill: #FFFFFF;\n",
              "    }\n",
              "  </style>\n",
              "\n",
              "      <script>\n",
              "        const buttonEl =\n",
              "          document.querySelector('#df-4653113b-563c-448d-a103-192143e9490e button.colab-df-convert');\n",
              "        buttonEl.style.display =\n",
              "          google.colab.kernel.accessAllowed ? 'block' : 'none';\n",
              "\n",
              "        async function convertToInteractive(key) {\n",
              "          const element = document.querySelector('#df-4653113b-563c-448d-a103-192143e9490e');\n",
              "          const dataTable =\n",
              "            await google.colab.kernel.invokeFunction('convertToInteractive',\n",
              "                                                     [key], {});\n",
              "          if (!dataTable) return;\n",
              "\n",
              "          const docLinkHtml = 'Like what you see? Visit the ' +\n",
              "            '<a target=\"_blank\" href=https://colab.research.google.com/notebooks/data_table.ipynb>data table notebook</a>'\n",
              "            + ' to learn more about interactive tables.';\n",
              "          element.innerHTML = '';\n",
              "          dataTable['output_type'] = 'display_data';\n",
              "          await google.colab.output.renderOutput(dataTable, element);\n",
              "          const docLink = document.createElement('div');\n",
              "          docLink.innerHTML = docLinkHtml;\n",
              "          element.appendChild(docLink);\n",
              "        }\n",
              "      </script>\n",
              "    </div>\n",
              "  </div>\n",
              "  "
            ]
          },
          "metadata": {},
          "execution_count": 36
        }
      ]
    },
    {
      "cell_type": "code",
      "source": [
        "# 기혼('Married') 상태에 해당하는 데이터만 추출\n",
        "married = country_marital.loc[:,'Married']\n",
        "married"
      ],
      "metadata": {
        "colab": {
          "base_uri": "https://localhost:8080/"
        },
        "id": "wKde6cFDKJLy",
        "outputId": "e2624eed-2e42-47b1-c981-0297851af780"
      },
      "execution_count": 38,
      "outputs": [
        {
          "output_type": "execute_result",
          "data": {
            "text/plain": [
              "Country\n",
              "AUS     63\n",
              "CA      94\n",
              "GER     56\n",
              "IND     51\n",
              "ME       0\n",
              "SA     103\n",
              "SP     413\n",
              "US      32\n",
              "Name: Married, dtype: int64"
            ]
          },
          "metadata": {},
          "execution_count": 38
        }
      ]
    },
    {
      "cell_type": "code",
      "source": [
        "# 기혼자 명수 총합\n",
        "married_ppl = sum(married)\n",
        "married_ppl"
      ],
      "metadata": {
        "colab": {
          "base_uri": "https://localhost:8080/"
        },
        "id": "gqM9UUQ8KKdh",
        "outputId": "8e89695c-c54c-440a-a601-daef0a10b71d"
      },
      "execution_count": 39,
      "outputs": [
        {
          "output_type": "execute_result",
          "data": {
            "text/plain": [
              "812"
            ]
          },
          "metadata": {},
          "execution_count": 39
        }
      ]
    },
    {
      "cell_type": "code",
      "source": [
        "# 국적 수\n",
        "len(df_final['Country'].unique())"
      ],
      "metadata": {
        "colab": {
          "base_uri": "https://localhost:8080/"
        },
        "id": "sVGBvLVxKLoh",
        "outputId": "2b944a7e-5e7f-4eb2-aabe-11da1a66793c"
      },
      "execution_count": 41,
      "outputs": [
        {
          "output_type": "execute_result",
          "data": {
            "text/plain": [
              "8"
            ]
          },
          "metadata": {},
          "execution_count": 41
        }
      ]
    },
    {
      "cell_type": "code",
      "source": [
        "# 기혼('Married')에 해당하는 전체 데이터 수를 국적 수(8)으로 나눈 빈도 = 우리의 기대 분포 (국적별 빈도가 균일함)\n",
        "exp = [married_ppl / 8]\n",
        "exp_f = exp * 8\n",
        "exp_f"
      ],
      "metadata": {
        "colab": {
          "base_uri": "https://localhost:8080/"
        },
        "id": "bEf1q8GSKNPZ",
        "outputId": "6b76dae1-6c83-4200-d251-b4af0e4fc2b7"
      },
      "execution_count": 42,
      "outputs": [
        {
          "output_type": "execute_result",
          "data": {
            "text/plain": [
              "[101.5, 101.5, 101.5, 101.5, 101.5, 101.5, 101.5, 101.5]"
            ]
          },
          "metadata": {},
          "execution_count": 42
        }
      ]
    },
    {
      "cell_type": "code",
      "source": [
        "\n",
        "stats, pvalue = chisquare(married)\n",
        "pvalue"
      ],
      "metadata": {
        "colab": {
          "base_uri": "https://localhost:8080/"
        },
        "id": "FpbsnoZbKOX0",
        "outputId": "45dcf8d7-6206-4164-de35-e0b2153d0660"
      },
      "execution_count": 43,
      "outputs": [
        {
          "output_type": "execute_result",
          "data": {
            "text/plain": [
              "1.777339802509078e-247"
            ]
          },
          "metadata": {},
          "execution_count": 43
        }
      ]
    },
    {
      "cell_type": "code",
      "source": [
        "round(pvalue, 2)"
      ],
      "metadata": {
        "colab": {
          "base_uri": "https://localhost:8080/"
        },
        "id": "upKWQosNKiug",
        "outputId": "b37dda71-9c9c-45b0-dfa7-056793d00e9a"
      },
      "execution_count": 45,
      "outputs": [
        {
          "output_type": "execute_result",
          "data": {
            "text/plain": [
              "0.0"
            ]
          },
          "metadata": {},
          "execution_count": 45
        }
      ]
    },
    {
      "cell_type": "markdown",
      "source": [
        "### **4-2. P-value 해석**\n",
        "\n"
      ],
      "metadata": {
        "id": "JGov3kLCobnX"
      }
    },
    {
      "cell_type": "markdown",
      "source": [
        "#### **가설검정 결과로 나온 p-value를 바탕으로 결론을 제시하세요.**"
      ],
      "metadata": {
        "id": "Em0Pj-5PCxeH"
      }
    },
    {
      "cell_type": "markdown",
      "source": [
        "##### **Q9. p-value와 귀무가설 기각 여부를 (`p-value`, `귀무가설 기각 여부`) 형태로 쓰세요.**\n",
        "\n",
        "- p-value는 소수점 둘째 자리까지 표시합니다.\n",
        "- 귀무가설 기각 여부는 `O`, `X` 로 표시합니다.\n",
        "  - `O` : 귀무가설 기각\n",
        "  - `X` : 귀무가설 기각 실패"
      ],
      "metadata": {
        "id": "t21mbk-OdkMP"
      }
    },
    {
      "cell_type": "markdown",
      "source": [
        "o"
      ],
      "metadata": {
        "id": "Wz0aQtT1m3lJ"
      }
    }
  ]
}